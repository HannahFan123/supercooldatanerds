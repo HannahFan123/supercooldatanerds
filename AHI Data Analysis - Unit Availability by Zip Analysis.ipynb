{
 "cells": [
  {
   "cell_type": "markdown",
   "metadata": {},
   "source": [
    "# Housing Affordability Analysis"
   ]
  },
  {
   "cell_type": "markdown",
   "metadata": {},
   "source": [
    "Observations"
   ]
  },
  {
   "cell_type": "code",
   "execution_count": 19,
   "metadata": {
    "collapsed": true
   },
   "outputs": [],
   "source": [
    "#import code dependencies\n",
    "import pandas as pd\n",
    "pd.options.display.float_format = '{:.0f}'.format\n",
    "import numpy as np\n",
    "import matplotlib.pyplot as plt\n",
    "import matplotlib.patches as mpatches\n",
    "import os\n",
    "import csv\n",
    "from functools import reduce\n"
   ]
  },
  {
   "cell_type": "code",
   "execution_count": 2,
   "metadata": {
    "collapsed": true,
    "scrolled": true
   },
   "outputs": [],
   "source": [
    "#read CSV and create dataframe\n",
    "AHI_df = pd.read_csv('AHI_DATA.csv')\n",
    "\n",
    "#select applicable fields\n",
    "AHI_df = AHI_df[['Zip Code','Unit Type', 'Housing Type', 'Status', 'Affordability Start Year']]\n",
    "AHI_df= AHI_df.dropna(how = 'any')\n",
    "\n",
    "#convert datatype to make it usable\n",
    "AHI_df['Zip Code'] = AHI_df['Zip Code'].astype(np.int64)\n",
    "\n",
    "#filter to only completed projects\n",
    "# filtered_AHI_df = AHI_df[(AHI_df['Status']=='Project Complete')]\n",
    "filtered_AHI_df = AHI_df[(AHI_df['Affordability Start Year']>=2012)]\n",
    "\n",
    "\n",
    "#group by zip code\n",
    "zipGroupBy_df = filtered_AHI_df.groupby([\"Zip Code\"])\n",
    "\n",
    "#count each unit type and rename column\n",
    "unitCount_df = pd.DataFrame(zipGroupBy_df['Unit Type'].value_counts())\n",
    "unitCount_df2 = unitCount_df.rename(columns={'Unit Type': 'Count_by_Unit_Type'})\n"
   ]
  },
  {
   "cell_type": "code",
   "execution_count": 3,
   "metadata": {},
   "outputs": [
    {
     "data": {
      "text/plain": [
       "Index(['Count_by_Unit_Type'], dtype='object')"
      ]
     },
     "execution_count": 3,
     "metadata": {},
     "output_type": "execute_result"
    }
   ],
   "source": [
    "unitCount_df2.columns"
   ]
  },
  {
   "cell_type": "code",
   "execution_count": 4,
   "metadata": {
    "collapsed": true
   },
   "outputs": [],
   "source": [
    "#reset index\n",
    "unitCount_df2.reset_index(inplace=True)"
   ]
  },
  {
   "cell_type": "code",
   "execution_count": 5,
   "metadata": {},
   "outputs": [
    {
     "data": {
      "text/plain": [
       "Unit Type\n",
       "ADU              1\n",
       "Duplex           4\n",
       "FourPlex         3\n",
       "Multifamily     32\n",
       "Single Family   60\n",
       "Name: Count_by_Unit_Type, dtype: float64"
      ]
     },
     "execution_count": 5,
     "metadata": {},
     "output_type": "execute_result"
    }
   ],
   "source": [
    "#calculate the data spread by unit type\n",
    "unitCount_df2.groupby('Unit Type').sum()[\"Count_by_Unit_Type\"]/unitCount_df2['Count_by_Unit_Type'].sum()*100"
   ]
  },
  {
   "cell_type": "code",
   "execution_count": 6,
   "metadata": {
    "collapsed": true
   },
   "outputs": [],
   "source": [
    "#create dataframes by unit types\n",
    "\n",
    "multifam_filtered_df = unitCount_df2[(unitCount_df2['Unit Type']==\"Multifamily\")]\n",
    "singlefam_filtered_df = unitCount_df2[(unitCount_df2['Unit Type']==\"Single Family\")]"
   ]
  },
  {
   "cell_type": "code",
   "execution_count": 7,
   "metadata": {
    "collapsed": true
   },
   "outputs": [],
   "source": [
    "#sort count from greatest to least\n",
    "multifam_sorted_df = multifam_filtered_df.sort_values(\"Count_by_Unit_Type\", ascending = False)\n",
    "singlefam_sorted_df = singlefam_filtered_df.sort_values(\"Count_by_Unit_Type\", ascending = False)"
   ]
  },
  {
   "cell_type": "code",
   "execution_count": 8,
   "metadata": {},
   "outputs": [
    {
     "data": {
      "text/html": [
       "<div>\n",
       "<style>\n",
       "    .dataframe thead tr:only-child th {\n",
       "        text-align: right;\n",
       "    }\n",
       "\n",
       "    .dataframe thead th {\n",
       "        text-align: left;\n",
       "    }\n",
       "\n",
       "    .dataframe tbody tr th {\n",
       "        vertical-align: top;\n",
       "    }\n",
       "</style>\n",
       "<table border=\"1\" class=\"dataframe\">\n",
       "  <thead>\n",
       "    <tr style=\"text-align: right;\">\n",
       "      <th></th>\n",
       "      <th>Zip Code</th>\n",
       "      <th>Unit Type</th>\n",
       "      <th>Count_by_Unit_Type</th>\n",
       "    </tr>\n",
       "  </thead>\n",
       "  <tbody>\n",
       "    <tr>\n",
       "      <th>6</th>\n",
       "      <td>78705</td>\n",
       "      <td>Multifamily</td>\n",
       "      <td>19</td>\n",
       "    </tr>\n",
       "    <tr>\n",
       "      <th>5</th>\n",
       "      <td>78704</td>\n",
       "      <td>Multifamily</td>\n",
       "      <td>13</td>\n",
       "    </tr>\n",
       "    <tr>\n",
       "      <th>3</th>\n",
       "      <td>78702</td>\n",
       "      <td>Multifamily</td>\n",
       "      <td>10</td>\n",
       "    </tr>\n",
       "    <tr>\n",
       "      <th>12</th>\n",
       "      <td>78723</td>\n",
       "      <td>Multifamily</td>\n",
       "      <td>4</td>\n",
       "    </tr>\n",
       "    <tr>\n",
       "      <th>18</th>\n",
       "      <td>78741</td>\n",
       "      <td>Multifamily</td>\n",
       "      <td>3</td>\n",
       "    </tr>\n",
       "    <tr>\n",
       "      <th>30</th>\n",
       "      <td>78756</td>\n",
       "      <td>Multifamily</td>\n",
       "      <td>3</td>\n",
       "    </tr>\n",
       "    <tr>\n",
       "      <th>1</th>\n",
       "      <td>78701</td>\n",
       "      <td>Multifamily</td>\n",
       "      <td>2</td>\n",
       "    </tr>\n",
       "    <tr>\n",
       "      <th>7</th>\n",
       "      <td>78717</td>\n",
       "      <td>Multifamily</td>\n",
       "      <td>1</td>\n",
       "    </tr>\n",
       "    <tr>\n",
       "      <th>15</th>\n",
       "      <td>78727</td>\n",
       "      <td>Multifamily</td>\n",
       "      <td>1</td>\n",
       "    </tr>\n",
       "    <tr>\n",
       "      <th>16</th>\n",
       "      <td>78735</td>\n",
       "      <td>Multifamily</td>\n",
       "      <td>1</td>\n",
       "    </tr>\n",
       "    <tr>\n",
       "      <th>20</th>\n",
       "      <td>78744</td>\n",
       "      <td>Multifamily</td>\n",
       "      <td>1</td>\n",
       "    </tr>\n",
       "    <tr>\n",
       "      <th>22</th>\n",
       "      <td>78745</td>\n",
       "      <td>Multifamily</td>\n",
       "      <td>1</td>\n",
       "    </tr>\n",
       "    <tr>\n",
       "      <th>24</th>\n",
       "      <td>78748</td>\n",
       "      <td>Multifamily</td>\n",
       "      <td>1</td>\n",
       "    </tr>\n",
       "    <tr>\n",
       "      <th>27</th>\n",
       "      <td>78751</td>\n",
       "      <td>Multifamily</td>\n",
       "      <td>1</td>\n",
       "    </tr>\n",
       "    <tr>\n",
       "      <th>29</th>\n",
       "      <td>78753</td>\n",
       "      <td>Multifamily</td>\n",
       "      <td>1</td>\n",
       "    </tr>\n",
       "    <tr>\n",
       "      <th>31</th>\n",
       "      <td>78757</td>\n",
       "      <td>Multifamily</td>\n",
       "      <td>1</td>\n",
       "    </tr>\n",
       "  </tbody>\n",
       "</table>\n",
       "</div>"
      ],
      "text/plain": [
       "    Zip Code    Unit Type  Count_by_Unit_Type\n",
       "6      78705  Multifamily                  19\n",
       "5      78704  Multifamily                  13\n",
       "3      78702  Multifamily                  10\n",
       "12     78723  Multifamily                   4\n",
       "18     78741  Multifamily                   3\n",
       "30     78756  Multifamily                   3\n",
       "1      78701  Multifamily                   2\n",
       "7      78717  Multifamily                   1\n",
       "15     78727  Multifamily                   1\n",
       "16     78735  Multifamily                   1\n",
       "20     78744  Multifamily                   1\n",
       "22     78745  Multifamily                   1\n",
       "24     78748  Multifamily                   1\n",
       "27     78751  Multifamily                   1\n",
       "29     78753  Multifamily                   1\n",
       "31     78757  Multifamily                   1"
      ]
     },
     "execution_count": 8,
     "metadata": {},
     "output_type": "execute_result"
    }
   ],
   "source": [
    "#print datafram\n",
    "multifam_sorted_df"
   ]
  },
  {
   "cell_type": "code",
   "execution_count": 9,
   "metadata": {},
   "outputs": [
    {
     "data": {
      "text/html": [
       "<div>\n",
       "<style>\n",
       "    .dataframe thead tr:only-child th {\n",
       "        text-align: right;\n",
       "    }\n",
       "\n",
       "    .dataframe thead th {\n",
       "        text-align: left;\n",
       "    }\n",
       "\n",
       "    .dataframe tbody tr th {\n",
       "        vertical-align: top;\n",
       "    }\n",
       "</style>\n",
       "<table border=\"1\" class=\"dataframe\">\n",
       "  <thead>\n",
       "    <tr style=\"text-align: right;\">\n",
       "      <th></th>\n",
       "      <th>Zip Code</th>\n",
       "      <th>Unit Type</th>\n",
       "      <th>Count_by_Unit_Type</th>\n",
       "    </tr>\n",
       "  </thead>\n",
       "  <tbody>\n",
       "    <tr>\n",
       "      <th>14</th>\n",
       "      <td>78724</td>\n",
       "      <td>Single Family</td>\n",
       "      <td>48</td>\n",
       "    </tr>\n",
       "    <tr>\n",
       "      <th>2</th>\n",
       "      <td>78702</td>\n",
       "      <td>Single Family</td>\n",
       "      <td>27</td>\n",
       "    </tr>\n",
       "    <tr>\n",
       "      <th>11</th>\n",
       "      <td>78723</td>\n",
       "      <td>Single Family</td>\n",
       "      <td>13</td>\n",
       "    </tr>\n",
       "    <tr>\n",
       "      <th>17</th>\n",
       "      <td>78741</td>\n",
       "      <td>Single Family</td>\n",
       "      <td>13</td>\n",
       "    </tr>\n",
       "    <tr>\n",
       "      <th>19</th>\n",
       "      <td>78744</td>\n",
       "      <td>Single Family</td>\n",
       "      <td>9</td>\n",
       "    </tr>\n",
       "    <tr>\n",
       "      <th>9</th>\n",
       "      <td>78722</td>\n",
       "      <td>Single Family</td>\n",
       "      <td>3</td>\n",
       "    </tr>\n",
       "    <tr>\n",
       "      <th>8</th>\n",
       "      <td>78721</td>\n",
       "      <td>Single Family</td>\n",
       "      <td>2</td>\n",
       "    </tr>\n",
       "    <tr>\n",
       "      <th>0</th>\n",
       "      <td>78617</td>\n",
       "      <td>Single Family</td>\n",
       "      <td>1</td>\n",
       "    </tr>\n",
       "    <tr>\n",
       "      <th>25</th>\n",
       "      <td>78750</td>\n",
       "      <td>Single Family</td>\n",
       "      <td>1</td>\n",
       "    </tr>\n",
       "  </tbody>\n",
       "</table>\n",
       "</div>"
      ],
      "text/plain": [
       "    Zip Code      Unit Type  Count_by_Unit_Type\n",
       "14     78724  Single Family                  48\n",
       "2      78702  Single Family                  27\n",
       "11     78723  Single Family                  13\n",
       "17     78741  Single Family                  13\n",
       "19     78744  Single Family                   9\n",
       "9      78722  Single Family                   3\n",
       "8      78721  Single Family                   2\n",
       "0      78617  Single Family                   1\n",
       "25     78750  Single Family                   1"
      ]
     },
     "execution_count": 9,
     "metadata": {},
     "output_type": "execute_result"
    }
   ],
   "source": [
    "#print dataframe\n",
    "singlefam_sorted_df"
   ]
  },
  {
   "cell_type": "code",
   "execution_count": 28,
   "metadata": {},
   "outputs": [
    {
     "data": {
      "text/plain": [
       "<matplotlib.figure.Figure at 0x11e9e4e48>"
      ]
     },
     "metadata": {},
     "output_type": "display_data"
    },
    {
     "data": {
      "image/png": "[encoded data removed]",
      "text/plain": [
       "<matplotlib.figure.Figure at 0x11e9e56d8>"
      ]
     },
     "metadata": {},
     "output_type": "display_data"
    }
   ],
   "source": [
    "#plot multifamily bar graph showing count by zip\n",
    "\n",
    "plt.figure(figsize=(12, 10))\n",
    "\n",
    "fig = multifam_sorted_df.plot.bar(x='Zip Code', y='Count_by_Unit_Type', color = 'lightskyblue')\n",
    "\n",
    "fig.set_title(\"Multi-Family Housing Availability by Zip Code\")\n",
    "\n",
    "fig.set_xlabel(\"Zip Code\")\n",
    "\n",
    "fig.set_ylabel(\"Housing Count\")\n",
    "\n",
    "blue_patch = mpatches.Patch(color='lightskyblue', label='Count of multifamily homes')\n",
    "plt.legend(handles=[blue_patch])\n",
    "\n",
    "imagepathprotocol = \"outputs/bar_plot_multifamily_analysis.png\"\n",
    "plt.savefig(imagepathprotocol, bbox_inches='tight')\n",
    "\n",
    "plt.show()"
   ]
  },
  {
   "cell_type": "code",
   "execution_count": 29,
   "metadata": {
    "scrolled": true
   },
   "outputs": [
    {
     "data": {
      "text/plain": [
       "<matplotlib.figure.Figure at 0x11e9e42e8>"
      ]
     },
     "metadata": {},
     "output_type": "display_data"
    },
    {
     "data": {
      "image/png": "[encoded data removed]",
      "text/plain": [
       "<matplotlib.figure.Figure at 0x11e9e4978>"
      ]
     },
     "metadata": {},
     "output_type": "display_data"
    }
   ],
   "source": [
    "#plot single family bar graph showing count by zip\n",
    "plt.figure(figsize=(12, 10))\n",
    "\n",
    "fig = singlefam_sorted_df.plot.bar(x='Zip Code', y='Count_by_Unit_Type', color = 'r')\n",
    "\n",
    "fig.set_title(\"Single Family Housing Availability by Zip Code\")\n",
    "\n",
    "fig.set_xlabel(\"Zip Code\")\n",
    "\n",
    "fig.set_ylabel(\"Housing Count\")\n",
    "\n",
    "red_patch = mpatches.Patch(color='r', label='Count of Single homes')\n",
    "plt.legend(handles=[red_patch])\n",
    "\n",
    "imagepathprotocol2 = \"outputs/bar_plot_singlefamily_analysis.png\"\n",
    "plt.savefig(imagepathprotocol2, bbox_inches='tight')\n",
    "\n",
    "plt.show()"
   ]
  },
  {
   "cell_type": "code",
   "execution_count": null,
   "metadata": {
    "collapsed": true
   },
   "outputs": [],
   "source": [
    "#over the years the housing availability has decreased with multifamily housing which could be a good indicator that \n",
    "#housing prices is going up because of the amount of houses availabel year over year. \n"
   ]
  },
  {
   "cell_type": "code",
   "execution_count": null,
   "metadata": {
    "collapsed": true
   },
   "outputs": [],
   "source": []
  }
 ],
 "metadata": {
  "kernelspec": {
   "display_name": "Python 3",
   "language": "python",
   "name": "python3"
  },
  "language_info": {
   "codemirror_mode": {
    "name": "ipython",
    "version": 3
   },
   "file_extension": ".py",
   "mimetype": "text/x-python",
   "name": "python",
   "nbconvert_exporter": "python",
   "pygments_lexer": "ipython3",
   "version": "3.6.3"
  }
 },
 "nbformat": 4,
 "nbformat_minor": 2
}
