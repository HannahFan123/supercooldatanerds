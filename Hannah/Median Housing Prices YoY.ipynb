{
 "cells": [
  {
   "cell_type": "markdown",
   "metadata": {},
   "source": [
    "# Housing Prices by Zip Code YoY"
   ]
  },
  {
   "cell_type": "code",
   "execution_count": 131,
   "metadata": {},
   "outputs": [],
   "source": [
    "# Dependencies\n",
    "import numpy as np\n",
    "import pandas as pd\n",
    "import matplotlib.pyplot as plt\n",
    "import requests\n",
    "import os\n"
   ]
  },
  {
   "cell_type": "code",
   "execution_count": 132,
   "metadata": {
    "scrolled": true
   },
   "outputs": [
    {
     "data": {
      "text/html": [
       "<div>\n",
       "<style scoped>\n",
       "    .dataframe tbody tr th:only-of-type {\n",
       "        vertical-align: middle;\n",
       "    }\n",
       "\n",
       "    .dataframe tbody tr th {\n",
       "        vertical-align: top;\n",
       "    }\n",
       "\n",
       "    .dataframe thead th {\n",
       "        text-align: right;\n",
       "    }\n",
       "</style>\n",
       "<table border=\"1\" class=\"dataframe\">\n",
       "  <thead>\n",
       "    <tr style=\"text-align: right;\">\n",
       "      <th></th>\n",
       "      <th>Region</th>\n",
       "      <th>Zipcode</th>\n",
       "      <th>Month of Period End</th>\n",
       "      <th>Year</th>\n",
       "      <th>Median Sale Price</th>\n",
       "      <th>Median Sale Price MoM</th>\n",
       "      <th>Median Sale Price YoY</th>\n",
       "      <th>Homes Sold</th>\n",
       "      <th>Homes Sold MoM</th>\n",
       "      <th>Homes Sold YoY</th>\n",
       "      <th>...</th>\n",
       "      <th>New Listings YoY</th>\n",
       "      <th>Inventory</th>\n",
       "      <th>Inventory MoM</th>\n",
       "      <th>Inventory YoY</th>\n",
       "      <th>Days on Market</th>\n",
       "      <th>Days on Market MoM</th>\n",
       "      <th>Days on Market YoY</th>\n",
       "      <th>Average Sale To List</th>\n",
       "      <th>Average Sale To List MoM</th>\n",
       "      <th>Average Sale To List YoY</th>\n",
       "    </tr>\n",
       "  </thead>\n",
       "  <tbody>\n",
       "    <tr>\n",
       "      <th>0</th>\n",
       "      <td>Austin, TX - Allandale</td>\n",
       "      <td>78756</td>\n",
       "      <td>12-Jan</td>\n",
       "      <td>2012</td>\n",
       "      <td>315000</td>\n",
       "      <td>-6.30%</td>\n",
       "      <td>7.70%</td>\n",
       "      <td>35</td>\n",
       "      <td>6.10%</td>\n",
       "      <td>-7.90%</td>\n",
       "      <td>...</td>\n",
       "      <td>5.60%</td>\n",
       "      <td>41.0</td>\n",
       "      <td>7.90%</td>\n",
       "      <td>-10.90%</td>\n",
       "      <td>56.0</td>\n",
       "      <td>5.0</td>\n",
       "      <td>0.0</td>\n",
       "      <td>95.00%</td>\n",
       "      <td>-0.60%</td>\n",
       "      <td>-1.10%</td>\n",
       "    </tr>\n",
       "    <tr>\n",
       "      <th>1</th>\n",
       "      <td>Austin, TX - Allandale</td>\n",
       "      <td>78756</td>\n",
       "      <td>12-Feb</td>\n",
       "      <td>2012</td>\n",
       "      <td>315000</td>\n",
       "      <td>-0.20%</td>\n",
       "      <td>6.30%</td>\n",
       "      <td>35</td>\n",
       "      <td>0.00%</td>\n",
       "      <td>2.90%</td>\n",
       "      <td>...</td>\n",
       "      <td>17.40%</td>\n",
       "      <td>44.0</td>\n",
       "      <td>7.30%</td>\n",
       "      <td>-6.40%</td>\n",
       "      <td>56.0</td>\n",
       "      <td>0.0</td>\n",
       "      <td>9.0</td>\n",
       "      <td>95.30%</td>\n",
       "      <td>0.30%</td>\n",
       "      <td>-1.00%</td>\n",
       "    </tr>\n",
       "    <tr>\n",
       "      <th>2</th>\n",
       "      <td>Austin, TX - Allandale</td>\n",
       "      <td>78756</td>\n",
       "      <td>12-Mar</td>\n",
       "      <td>2012</td>\n",
       "      <td>322000</td>\n",
       "      <td>2.30%</td>\n",
       "      <td>8.40%</td>\n",
       "      <td>42</td>\n",
       "      <td>20.00%</td>\n",
       "      <td>20.00%</td>\n",
       "      <td>...</td>\n",
       "      <td>22.80%</td>\n",
       "      <td>43.0</td>\n",
       "      <td>-2.30%</td>\n",
       "      <td>2.40%</td>\n",
       "      <td>42.0</td>\n",
       "      <td>-14.0</td>\n",
       "      <td>6.0</td>\n",
       "      <td>95.90%</td>\n",
       "      <td>0.60%</td>\n",
       "      <td>-0.40%</td>\n",
       "    </tr>\n",
       "    <tr>\n",
       "      <th>3</th>\n",
       "      <td>Austin, TX - Allandale</td>\n",
       "      <td>78756</td>\n",
       "      <td>12-Apr</td>\n",
       "      <td>2012</td>\n",
       "      <td>346000</td>\n",
       "      <td>7.40%</td>\n",
       "      <td>9.00%</td>\n",
       "      <td>56</td>\n",
       "      <td>33.30%</td>\n",
       "      <td>24.40%</td>\n",
       "      <td>...</td>\n",
       "      <td>16.90%</td>\n",
       "      <td>38.0</td>\n",
       "      <td>-11.60%</td>\n",
       "      <td>-15.60%</td>\n",
       "      <td>33.0</td>\n",
       "      <td>-9.0</td>\n",
       "      <td>1.0</td>\n",
       "      <td>97.00%</td>\n",
       "      <td>1.10%</td>\n",
       "      <td>0.10%</td>\n",
       "    </tr>\n",
       "    <tr>\n",
       "      <th>4</th>\n",
       "      <td>Austin, TX - Allandale</td>\n",
       "      <td>78756</td>\n",
       "      <td>12-May</td>\n",
       "      <td>2012</td>\n",
       "      <td>360000</td>\n",
       "      <td>4.10%</td>\n",
       "      <td>9.90%</td>\n",
       "      <td>64</td>\n",
       "      <td>14.30%</td>\n",
       "      <td>45.50%</td>\n",
       "      <td>...</td>\n",
       "      <td>37.90%</td>\n",
       "      <td>37.0</td>\n",
       "      <td>-2.60%</td>\n",
       "      <td>-7.50%</td>\n",
       "      <td>21.0</td>\n",
       "      <td>-12.0</td>\n",
       "      <td>-11.0</td>\n",
       "      <td>97.50%</td>\n",
       "      <td>0.50%</td>\n",
       "      <td>0.70%</td>\n",
       "    </tr>\n",
       "  </tbody>\n",
       "</table>\n",
       "<p>5 rows × 22 columns</p>\n",
       "</div>"
      ],
      "text/plain": [
       "                   Region  Zipcode Month of Period End  Year  \\\n",
       "0  Austin, TX - Allandale    78756              12-Jan  2012   \n",
       "1  Austin, TX - Allandale    78756              12-Feb  2012   \n",
       "2  Austin, TX - Allandale    78756              12-Mar  2012   \n",
       "3  Austin, TX - Allandale    78756              12-Apr  2012   \n",
       "4  Austin, TX - Allandale    78756              12-May  2012   \n",
       "\n",
       "   Median Sale Price Median Sale Price MoM  Median Sale Price YoY   \\\n",
       "0             315000                 -6.30%                  7.70%   \n",
       "1             315000                 -0.20%                  6.30%   \n",
       "2             322000                  2.30%                  8.40%   \n",
       "3             346000                  7.40%                  9.00%   \n",
       "4             360000                  4.10%                  9.90%   \n",
       "\n",
       "   Homes Sold Homes Sold MoM  Homes Sold YoY             ...             \\\n",
       "0          35           6.10%          -7.90%            ...              \n",
       "1          35           0.00%           2.90%            ...              \n",
       "2          42          20.00%          20.00%            ...              \n",
       "3          56          33.30%          24.40%            ...              \n",
       "4          64          14.30%          45.50%            ...              \n",
       "\n",
       "  New Listings YoY  Inventory Inventory MoM    Inventory YoY  Days on Market  \\\n",
       "0             5.60%      41.0          7.90%          -10.90%           56.0   \n",
       "1            17.40%      44.0          7.30%           -6.40%           56.0   \n",
       "2            22.80%      43.0         -2.30%            2.40%           42.0   \n",
       "3            16.90%      38.0        -11.60%          -15.60%           33.0   \n",
       "4            37.90%      37.0         -2.60%           -7.50%           21.0   \n",
       "\n",
       "  Days on Market MoM  Days on Market YoY  Average Sale To List  \\\n",
       "0                5.0                 0.0                95.00%   \n",
       "1                0.0                 9.0                95.30%   \n",
       "2              -14.0                 6.0                95.90%   \n",
       "3               -9.0                 1.0                97.00%   \n",
       "4              -12.0               -11.0                97.50%   \n",
       "\n",
       "   Average Sale To List MoM  Average Sale To List YoY   \n",
       "0                     -0.60%                    -1.10%  \n",
       "1                      0.30%                    -1.00%  \n",
       "2                      0.60%                    -0.40%  \n",
       "3                      1.10%                     0.10%  \n",
       "4                      0.50%                     0.70%  \n",
       "\n",
       "[5 rows x 22 columns]"
      ]
     },
     "execution_count": 132,
     "metadata": {},
     "output_type": "execute_result"
    }
   ],
   "source": [
    "raw_df = pd.read_csv(\"housing_prices.csv\")\n",
    "raw_df.head()"
   ]
  },
  {
   "cell_type": "code",
   "execution_count": 133,
   "metadata": {},
   "outputs": [],
   "source": [
    "#prices_groups = pd.DataFrame(raw_df.groupby(['Zipcode']).mean())\n",
    "#median_price = pd.DataFrame(prices_groups['Median Sale Price'].unique())\n",
    "#median_price"
   ]
  },
  {
   "cell_type": "code",
   "execution_count": 134,
   "metadata": {},
   "outputs": [
    {
     "data": {
      "text/plain": [
       "Zipcode\n",
       "78701    348565.789474\n",
       "78702    315975.328947\n",
       "78703    697640.350877\n",
       "78704    407497.607656\n",
       "78705    265328.947368\n",
       "78721    250338.815789\n",
       "78722    372789.473684\n",
       "78723    268232.456140\n",
       "78726    267236.842105\n",
       "78727    285309.210526\n",
       "78730    759342.105263\n",
       "78731    258289.473684\n",
       "78735    330536.184211\n",
       "78741    184728.070175\n",
       "78744    154388.157895\n",
       "78745    258396.825397\n",
       "78747    164855.263158\n",
       "78748    287770.270270\n",
       "78751    390171.052632\n",
       "78752    192092.920354\n",
       "78753    169376.315789\n",
       "78756    434859.649123\n",
       "78757    311868.421053\n",
       "78758    212078.947368\n",
       "78759    373333.333333\n",
       "Name: Median Sale Price, dtype: float64"
      ]
     },
     "execution_count": 134,
     "metadata": {},
     "output_type": "execute_result"
    }
   ],
   "source": [
    "prices = raw_df.groupby(['Zipcode'])['Median Sale Price'].mean()\n",
    "prices\n"
   ]
  },
  {
   "cell_type": "code",
   "execution_count": 136,
   "metadata": {},
   "outputs": [
    {
     "data": {
      "text/plain": [
       "array(['78756', '78727', '78704', '78757', '78701', '78702', '78703',\n",
       "       '78722', '78753', '78752', '78735', '78744', '78745', '78721',\n",
       "       '78758', '78751', '78731', '78759', '78747', '78741', '78705',\n",
       "       '78723', '78726', '78748', '78730'], dtype='<U21')"
      ]
     },
     "execution_count": 136,
     "metadata": {},
     "output_type": "execute_result"
    }
   ],
   "source": [
    "zips = raw_df['Zipcode'].unique()\n",
    "zips\n",
    "\n",
    "final_zip = zips.astype(str)\n",
    "final_zip"
   ]
  },
  {
   "cell_type": "code",
   "execution_count": 137,
   "metadata": {},
   "outputs": [],
   "source": [
    "# Give our graph axis labels\n",
    "#plt.xlabel(\"\")\n",
    "#plt.ylabel(\"How Cool MatPlotLib Seems\")\n",
    "\n",
    "# Have to plot our chart once again as it doesn't stick after being shown\n",
    "#plt.plot(x_axis, e_x)\n",
    "#plt.show()"
   ]
  },
  {
   "cell_type": "code",
   "execution_count": 138,
   "metadata": {},
   "outputs": [
    {
     "data": {
      "text/plain": [
       "<BarContainer object of 25 artists>"
      ]
     },
     "execution_count": 138,
     "metadata": {},
     "output_type": "execute_result"
    },
    {
     "data": {
      "image/png": "[encoded data removed]",
      "text/plain": [
       "<Figure size 2160x360 with 1 Axes>"
      ]
     },
     "metadata": {},
     "output_type": "display_data"
    }
   ],
   "source": [
    "#zip_codes = pd.DataFrame(raw_df[\"Zipcode\"].unique())\n",
    "\n",
    "#z = tuple(zip_codes)\n",
    "#zip_codes\n",
    "\n",
    "plt.figure(figsize=(30,5))   \n",
    "plt.bar(final_zip, prices,  width=.8, color=\"red\", align='center', alpha=1) \n",
    "\n"
   ]
  },
  {
   "cell_type": "code",
   "execution_count": null,
   "metadata": {},
   "outputs": [],
   "source": []
  },
  {
   "cell_type": "code",
   "execution_count": null,
   "metadata": {},
   "outputs": [],
   "source": []
  }
 ],
 "metadata": {
  "kernelspec": {
   "display_name": "Python [conda env:PythonData]",
   "language": "python",
   "name": "conda-env-PythonData-py"
  },
  "language_info": {
   "codemirror_mode": {
    "name": "ipython",
    "version": 3
   },
   "file_extension": ".py",
   "mimetype": "text/x-python",
   "name": "python",
   "nbconvert_exporter": "python",
   "pygments_lexer": "ipython3",
   "version": "3.6.5"
  }
 },
 "nbformat": 4,
 "nbformat_minor": 2
}
