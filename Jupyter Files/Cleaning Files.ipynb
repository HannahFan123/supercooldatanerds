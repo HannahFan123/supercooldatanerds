{
 "cells": [
  {
   "cell_type": "markdown",
   "metadata": {},
   "source": [
    "# Cleaning the Raw Data"
   ]
  },
  {
   "cell_type": "markdown",
   "metadata": {},
   "source": [
    "## This Notebook is to clean the parks and crime data. Both crime datasets will be cleansed simultaneously."
   ]
  },
  {
   "cell_type": "code",
   "execution_count": 1,
   "metadata": {},
   "outputs": [],
   "source": [
    "import os\n",
    "import pandas as pd\n",
    "import re"
   ]
  },
  {
   "cell_type": "markdown",
   "metadata": {},
   "source": [
    "#### Cleaning the parks file (1 of 3)"
   ]
  },
  {
   "cell_type": "code",
   "execution_count": 2,
   "metadata": {},
   "outputs": [],
   "source": [
    "parks= os.path.join(\"../Resources/Raw/city-of-austin-parks-1.csv\")"
   ]
  },
  {
   "cell_type": "code",
   "execution_count": 3,
   "metadata": {},
   "outputs": [
    {
     "data": {
      "text/html": [
       "<div>\n",
       "<style scoped>\n",
       "    .dataframe tbody tr th:only-of-type {\n",
       "        vertical-align: middle;\n",
       "    }\n",
       "\n",
       "    .dataframe tbody tr th {\n",
       "        vertical-align: top;\n",
       "    }\n",
       "\n",
       "    .dataframe thead th {\n",
       "        text-align: right;\n",
       "    }\n",
       "</style>\n",
       "<table border=\"1\" class=\"dataframe\">\n",
       "  <thead>\n",
       "    <tr style=\"text-align: right;\">\n",
       "      <th></th>\n",
       "      <th>PARK_ID</th>\n",
       "      <th>PARK_ACRES</th>\n",
       "      <th>SHAPE_AREA</th>\n",
       "      <th>SHAPE_LEN</th>\n",
       "      <th>ZIP_CODE</th>\n",
       "    </tr>\n",
       "  </thead>\n",
       "  <tbody>\n",
       "    <tr>\n",
       "      <th>0</th>\n",
       "      <td>215</td>\n",
       "      <td>1.152581</td>\n",
       "      <td>5.020624e+04</td>\n",
       "      <td>912.073535</td>\n",
       "      <td>78731</td>\n",
       "    </tr>\n",
       "    <tr>\n",
       "      <th>1</th>\n",
       "      <td>313</td>\n",
       "      <td>4.943708</td>\n",
       "      <td>2.153470e+05</td>\n",
       "      <td>2456.140724</td>\n",
       "      <td>78703</td>\n",
       "    </tr>\n",
       "    <tr>\n",
       "      <th>2</th>\n",
       "      <td>371</td>\n",
       "      <td>77.390907</td>\n",
       "      <td>3.371134e+06</td>\n",
       "      <td>9262.547633</td>\n",
       "      <td>78746</td>\n",
       "    </tr>\n",
       "    <tr>\n",
       "      <th>3</th>\n",
       "      <td>289</td>\n",
       "      <td>2.248317</td>\n",
       "      <td>9.793630e+04</td>\n",
       "      <td>1665.906556</td>\n",
       "      <td>78703</td>\n",
       "    </tr>\n",
       "    <tr>\n",
       "      <th>4</th>\n",
       "      <td>315</td>\n",
       "      <td>91.228997</td>\n",
       "      <td>3.973919e+06</td>\n",
       "      <td>35791.080093</td>\n",
       "      <td>78745</td>\n",
       "    </tr>\n",
       "  </tbody>\n",
       "</table>\n",
       "</div>"
      ],
      "text/plain": [
       "   PARK_ID  PARK_ACRES    SHAPE_AREA     SHAPE_LEN  ZIP_CODE\n",
       "0      215    1.152581  5.020624e+04    912.073535     78731\n",
       "1      313    4.943708  2.153470e+05   2456.140724     78703\n",
       "2      371   77.390907  3.371134e+06   9262.547633     78746\n",
       "3      289    2.248317  9.793630e+04   1665.906556     78703\n",
       "4      315   91.228997  3.973919e+06  35791.080093     78745"
      ]
     },
     "execution_count": 3,
     "metadata": {},
     "output_type": "execute_result"
    }
   ],
   "source": [
    "parks_df= pd.read_csv(parks)\n",
    "\n",
    "parks_df = parks_df[[\"PARK_ID\",\"PARK_ACRES\",\"SHAPE_AREA\",\"SHAPE_LEN\",\"ZIP_CODE\"]]\n",
    "parks_df.head()"
   ]
  },
  {
   "cell_type": "code",
   "execution_count": 4,
   "metadata": {},
   "outputs": [
    {
     "data": {
      "text/html": [
       "<div>\n",
       "<style scoped>\n",
       "    .dataframe tbody tr th:only-of-type {\n",
       "        vertical-align: middle;\n",
       "    }\n",
       "\n",
       "    .dataframe tbody tr th {\n",
       "        vertical-align: top;\n",
       "    }\n",
       "\n",
       "    .dataframe thead th {\n",
       "        text-align: right;\n",
       "    }\n",
       "</style>\n",
       "<table border=\"1\" class=\"dataframe\">\n",
       "  <thead>\n",
       "    <tr style=\"text-align: right;\">\n",
       "      <th></th>\n",
       "      <th>Zip Code</th>\n",
       "      <th>Number of Parks</th>\n",
       "    </tr>\n",
       "  </thead>\n",
       "  <tbody>\n",
       "    <tr>\n",
       "      <th>0</th>\n",
       "      <td>78613</td>\n",
       "      <td>1</td>\n",
       "    </tr>\n",
       "    <tr>\n",
       "      <th>1</th>\n",
       "      <td>78617</td>\n",
       "      <td>5</td>\n",
       "    </tr>\n",
       "    <tr>\n",
       "      <th>2</th>\n",
       "      <td>78652</td>\n",
       "      <td>2</td>\n",
       "    </tr>\n",
       "    <tr>\n",
       "      <th>3</th>\n",
       "      <td>78660</td>\n",
       "      <td>1</td>\n",
       "    </tr>\n",
       "    <tr>\n",
       "      <th>4</th>\n",
       "      <td>78664</td>\n",
       "      <td>1</td>\n",
       "    </tr>\n",
       "  </tbody>\n",
       "</table>\n",
       "</div>"
      ],
      "text/plain": [
       "   Zip Code  Number of Parks\n",
       "0     78613                1\n",
       "1     78617                5\n",
       "2     78652                2\n",
       "3     78660                1\n",
       "4     78664                1"
      ]
     },
     "execution_count": 4,
     "metadata": {},
     "output_type": "execute_result"
    }
   ],
   "source": [
    "zip_parks_df = parks_df.groupby([\"ZIP_CODE\"])[\"PARK_ID\"].count().reset_index()\n",
    "zip_parks_df= zip_parks_df.rename(columns={\"ZIP_CODE\": \"Zip Code\",\"PARK_ID\": \"Number of Parks\"})\n",
    "\n",
    "zip_parks_df.head()"
   ]
  },
  {
   "cell_type": "code",
   "execution_count": 5,
   "metadata": {},
   "outputs": [],
   "source": [
    "zip_parks_df.to_csv(\"../Resources/CLean/parks_by_zip.csv\")"
   ]
  },
  {
   "cell_type": "markdown",
   "metadata": {},
   "source": [
    "#### Cleaning Crime Data"
   ]
  },
  {
   "cell_type": "code",
   "execution_count": 6,
   "metadata": {},
   "outputs": [],
   "source": [
    "crime_2014= os.path.join(\"../Resources/Raw/Annual_Crime_2014.csv\")\n",
    "crime_2016= os.path.join(\"../Resources/Raw/2016_Annual_Crime_Data.csv.\")"
   ]
  },
  {
   "cell_type": "code",
   "execution_count": 7,
   "metadata": {},
   "outputs": [],
   "source": [
    "crime_2014_df = pd.read_csv(crime_2014)\n",
    "crime_2016_df = pd.read_csv(crime_2016)"
   ]
  },
  {
   "cell_type": "code",
   "execution_count": 8,
   "metadata": {},
   "outputs": [],
   "source": [
    "crime_2014_df = crime_2014_df[[\"GO Location Zip\",\"GO Highest Offense Desc\",\"Highest NIBRS/UCR Offense Description\"]]\n",
    "crime_2014_df= crime_2014_df.rename(columns={\"GO Location Zip\": \"Zip Code\", \"Highest NIBRS/UCR Offense Description\":\"UCR Description\"})"
   ]
  },
  {
   "cell_type": "code",
   "execution_count": 9,
   "metadata": {},
   "outputs": [
    {
     "data": {
      "text/plain": [
       "78,753    3935\n",
       "78,741    3394\n",
       "78,758    2826\n",
       "78,704    2715\n",
       "78,745    2577\n",
       "78,702    2196\n",
       "78,744    2195\n",
       "78,723    2083\n",
       "78,701    2036\n",
       "78,759    1557\n",
       "78,748    1550\n",
       "78,752    1321\n",
       "78,705    1138\n",
       "78,757    1098\n",
       "78,751     926\n",
       "78,749     818\n",
       "78,746     790\n",
       "78,703     660\n",
       "78,721     639\n",
       "78,724     537\n",
       "78,727     532\n",
       "78,731     527\n",
       "78,729     469\n",
       "78,754     457\n",
       "78,750     409\n",
       "78,613     404\n",
       "78,756     355\n",
       "78,722     347\n",
       "78,735     280\n",
       "78,617     274\n",
       "78,717     257\n",
       "78,747     249\n",
       "78,726     204\n",
       "78,660     146\n",
       "78,739     133\n",
       "78,719     127\n",
       "78,725      76\n",
       "78,736      57\n",
       "78,730      51\n",
       "78,742      46\n",
       "Name: Zip Code, dtype: int64"
      ]
     },
     "execution_count": 9,
     "metadata": {},
     "output_type": "execute_result"
    }
   ],
   "source": [
    "# Decided to remove the zip codes with less than 40 offenses\n",
    "\n",
    "# crime_2014_df[\"Zip Code\"].value_counts()\n",
    "outliers= [\"78,653\", \"78,712\",\"78,728\",\"78,652\",\"78,732\",\"78,733\",\"78,610\",\"78,737\"]\n",
    "for outlier in outliers:\n",
    "    crime_2014_df = crime_2014_df[crime_2014_df[\"Zip Code\"] != outlier]\n",
    "crime_2014_df[\"Zip Code\"].value_counts()"
   ]
  },
  {
   "cell_type": "code",
   "execution_count": 10,
   "metadata": {},
   "outputs": [
    {
     "data": {
      "text/plain": [
       "array(['Robbery', 'Burglary / \\nBreaking & Entering', 'Auto Theft',\n",
       "       'Homicide: Murder & Nonnegligent Manslaughter', 'Rape',\n",
       "       'Aggravated Assault', 'Theft: Shoplifting',\n",
       "       'Theft: Pocket Picking', 'Theft: Purse Snatching',\n",
       "       'Theft: from Building', 'Theft: Coin Op Machine', 'Theft: BOV',\n",
       "       'Theft: Auto Parts', 'Theft: All Other Larceny'], dtype=object)"
      ]
     },
     "execution_count": 10,
     "metadata": {},
     "output_type": "execute_result"
    }
   ],
   "source": [
    "crime_2014_df[\"UCR Description\"].unique()"
   ]
  },
  {
   "cell_type": "code",
   "execution_count": 12,
   "metadata": {},
   "outputs": [],
   "source": [
    "crime_2016_df= crime_2016_df[[\"GO Location Zip\",\"GO Highest Offense Desc\",\"Highest NIBRS/UCR Offense Description\"]]\n",
    "crime_2016_df= crime_2016_df.rename(columns={\"GO Location Zip\": \"Zip Code\", \"Highest NIBRS/UCR Offense Description\":\"UCR Description\"})"
   ]
  },
  {
   "cell_type": "code",
   "execution_count": 27,
   "metadata": {},
   "outputs": [
    {
     "data": {
      "text/plain": [
       "78741.0    3355\n",
       "78753.0    3134\n",
       "78704.0    2557\n",
       "78758.0    2499\n",
       "78745.0    2245\n",
       "78701.0    2076\n",
       "78723.0    2041\n",
       "78744.0    1990\n",
       "78702.0    1582\n",
       "78748.0    1372\n",
       "78752.0    1289\n",
       "78759.0    1198\n",
       "78705.0    1134\n",
       "78757.0    1074\n",
       "78751.0     914\n",
       "78746.0     826\n",
       "78749.0     790\n",
       "78703.0     660\n",
       "78729.0     564\n",
       "78724.0     540\n",
       "78727.0     538\n",
       "78721.0     515\n",
       "78731.0     512\n",
       "78754.0     413\n",
       "78613.0     341\n",
       "78750.0     340\n",
       "78756.0     326\n",
       "78717.0     305\n",
       "78735.0     300\n",
       "78617.0     285\n",
       "78722.0     261\n",
       "78747.0     229\n",
       "78726.0     221\n",
       "78660.0     179\n",
       "78719.0     165\n",
       "78739.0     151\n",
       "78736.0     115\n",
       "78725.0      72\n",
       "78742.0      58\n",
       "78653.0      48\n",
       "78730.0      46\n",
       "Name: Zip Code, dtype: int64"
      ]
     },
     "execution_count": 27,
     "metadata": {},
     "output_type": "execute_result"
    }
   ],
   "source": [
    "# Decided to remove the zip codes with less than 40 offenses\n",
    "\n",
    "# crime_2016_df[\"Zip Code\"].value_counts()\n",
    "\n",
    "outliers = [78652.0,78712.0,78728.0,78664.0,78732.0,78737.0]\n",
    "\n",
    "for outlier in outliers:\n",
    "    crime_2016_df = crime_2016_df[crime_2016_df[\"Zip Code\"] != outlier]\n",
    "crime_2016_df[\"Zip Code\"].value_counts()"
   ]
  },
  {
   "cell_type": "code",
   "execution_count": 14,
   "metadata": {},
   "outputs": [
    {
     "data": {
      "text/plain": [
       "array(['Agg Assault', 'Theft', 'Robbery', 'Rape', 'Burglary',\n",
       "       'Auto Theft', 'Murder'], dtype=object)"
      ]
     },
     "execution_count": 14,
     "metadata": {},
     "output_type": "execute_result"
    }
   ],
   "source": [
    "crime_2016_df[\"UCR Description\"].unique()"
   ]
  },
  {
   "cell_type": "markdown",
   "metadata": {},
   "source": [
    "#### Write a function that will make both 2016 & 2014's Crime Type columns to match"
   ]
  },
  {
   "cell_type": "code",
   "execution_count": 15,
   "metadata": {},
   "outputs": [],
   "source": [
    "def cleanNIBRS(offense):\n",
    "    offenses = ['Agg Assault','Auto Theft', 'Robbery', 'Rape', 'Burglary', 'Theft', 'Murder']\n",
    "    for off in offenses:\n",
    "        if re.search(off, offense):\n",
    "            return off\n",
    "        elif offense == \"Aggravated Assault\":\n",
    "            return 'Agg Assault'\n",
    "        else:\n",
    "            continue"
   ]
  },
  {
   "cell_type": "code",
   "execution_count": 16,
   "metadata": {},
   "outputs": [],
   "source": [
    "crime_2014_df[\"UCR Description\"] = crime_2014_df[\"UCR Description\"].apply(lambda row: cleanNIBRS(row))"
   ]
  },
  {
   "cell_type": "code",
   "execution_count": 17,
   "metadata": {},
   "outputs": [
    {
     "data": {
      "text/plain": [
       "array(['Robbery', 'Burglary', 'Auto Theft', 'Murder', 'Rape',\n",
       "       'Agg Assault', 'Theft'], dtype=object)"
      ]
     },
     "execution_count": 17,
     "metadata": {},
     "output_type": "execute_result"
    }
   ],
   "source": [
    "crime_2014_df[\"UCR Description\"].unique()"
   ]
  },
  {
   "cell_type": "code",
   "execution_count": 18,
   "metadata": {},
   "outputs": [
    {
     "data": {
      "text/html": [
       "<div>\n",
       "<style scoped>\n",
       "    .dataframe tbody tr th:only-of-type {\n",
       "        vertical-align: middle;\n",
       "    }\n",
       "\n",
       "    .dataframe tbody tr th {\n",
       "        vertical-align: top;\n",
       "    }\n",
       "\n",
       "    .dataframe thead th {\n",
       "        text-align: right;\n",
       "    }\n",
       "</style>\n",
       "<table border=\"1\" class=\"dataframe\">\n",
       "  <thead>\n",
       "    <tr style=\"text-align: right;\">\n",
       "      <th></th>\n",
       "      <th>Zip Code</th>\n",
       "      <th>GO Highest Offense Desc</th>\n",
       "      <th>UCR Description</th>\n",
       "    </tr>\n",
       "  </thead>\n",
       "  <tbody>\n",
       "    <tr>\n",
       "      <th>0</th>\n",
       "      <td>78,753</td>\n",
       "      <td>AGG ROBBERY/DEADLY WEAPON</td>\n",
       "      <td>Robbery</td>\n",
       "    </tr>\n",
       "    <tr>\n",
       "      <th>1</th>\n",
       "      <td>78,723</td>\n",
       "      <td>ROBBERY BY ASSAULT</td>\n",
       "      <td>Robbery</td>\n",
       "    </tr>\n",
       "    <tr>\n",
       "      <th>2</th>\n",
       "      <td>78,702</td>\n",
       "      <td>ROBBERY BY THREAT</td>\n",
       "      <td>Robbery</td>\n",
       "    </tr>\n",
       "    <tr>\n",
       "      <th>3</th>\n",
       "      <td>78,723</td>\n",
       "      <td>AGG ROBBERY/DEADLY WEAPON</td>\n",
       "      <td>Robbery</td>\n",
       "    </tr>\n",
       "    <tr>\n",
       "      <th>4</th>\n",
       "      <td>78,702</td>\n",
       "      <td>AGG ROBBERY/DEADLY WEAPON</td>\n",
       "      <td>Robbery</td>\n",
       "    </tr>\n",
       "  </tbody>\n",
       "</table>\n",
       "</div>"
      ],
      "text/plain": [
       "  Zip Code         GO Highest Offense Desc UCR Description\n",
       "0   78,753  AGG ROBBERY/DEADLY WEAPON              Robbery\n",
       "1   78,723  ROBBERY BY ASSAULT                     Robbery\n",
       "2   78,702  ROBBERY BY THREAT                      Robbery\n",
       "3   78,723  AGG ROBBERY/DEADLY WEAPON              Robbery\n",
       "4   78,702  AGG ROBBERY/DEADLY WEAPON              Robbery"
      ]
     },
     "execution_count": 18,
     "metadata": {},
     "output_type": "execute_result"
    }
   ],
   "source": [
    "crime_2014_df.head()"
   ]
  },
  {
   "cell_type": "code",
   "execution_count": 19,
   "metadata": {},
   "outputs": [
    {
     "data": {
      "text/html": [
       "<div>\n",
       "<style scoped>\n",
       "    .dataframe tbody tr th:only-of-type {\n",
       "        vertical-align: middle;\n",
       "    }\n",
       "\n",
       "    .dataframe tbody tr th {\n",
       "        vertical-align: top;\n",
       "    }\n",
       "\n",
       "    .dataframe thead th {\n",
       "        text-align: right;\n",
       "    }\n",
       "</style>\n",
       "<table border=\"1\" class=\"dataframe\">\n",
       "  <thead>\n",
       "    <tr style=\"text-align: right;\">\n",
       "      <th></th>\n",
       "      <th>Zip Code</th>\n",
       "      <th>GO Highest Offense Desc</th>\n",
       "      <th>UCR Description</th>\n",
       "    </tr>\n",
       "  </thead>\n",
       "  <tbody>\n",
       "    <tr>\n",
       "      <th>0</th>\n",
       "      <td>78735.0</td>\n",
       "      <td>AGG ASLT ENHANC STRANGL/SUFFOC</td>\n",
       "      <td>Agg Assault</td>\n",
       "    </tr>\n",
       "    <tr>\n",
       "      <th>1</th>\n",
       "      <td>78701.0</td>\n",
       "      <td>THEFT</td>\n",
       "      <td>Theft</td>\n",
       "    </tr>\n",
       "    <tr>\n",
       "      <th>2</th>\n",
       "      <td>78753.0</td>\n",
       "      <td>AGG ROBBERY/DEADLY WEAPON</td>\n",
       "      <td>Robbery</td>\n",
       "    </tr>\n",
       "    <tr>\n",
       "      <th>3</th>\n",
       "      <td>78701.0</td>\n",
       "      <td>THEFT</td>\n",
       "      <td>Theft</td>\n",
       "    </tr>\n",
       "    <tr>\n",
       "      <th>4</th>\n",
       "      <td>78753.0</td>\n",
       "      <td>SEXUAL ASSAULT W/ OBJECT</td>\n",
       "      <td>Rape</td>\n",
       "    </tr>\n",
       "  </tbody>\n",
       "</table>\n",
       "</div>"
      ],
      "text/plain": [
       "   Zip Code         GO Highest Offense Desc UCR Description\n",
       "0   78735.0  AGG ASLT ENHANC STRANGL/SUFFOC     Agg Assault\n",
       "1   78701.0  THEFT                                    Theft\n",
       "2   78753.0  AGG ROBBERY/DEADLY WEAPON              Robbery\n",
       "3   78701.0  THEFT                                    Theft\n",
       "4   78753.0  SEXUAL ASSAULT W/ OBJECT                  Rape"
      ]
     },
     "execution_count": 19,
     "metadata": {},
     "output_type": "execute_result"
    }
   ],
   "source": [
    "crime_2016_df.head()"
   ]
  },
  {
   "cell_type": "code",
   "execution_count": 20,
   "metadata": {},
   "outputs": [],
   "source": [
    "crime_2016_df.to_csv(\"../Resources/CLean/crime_2016_clean.csv\")\n",
    "crime_2014_df.to_csv(\"../Resources/CLean/crime_2014_clean.csv\")"
   ]
  }
 ],
 "metadata": {
  "kernelspec": {
   "display_name": "Python [conda env:PythonData]",
   "language": "python",
   "name": "conda-env-PythonData-py"
  },
  "language_info": {
   "codemirror_mode": {
    "name": "ipython",
    "version": 3
   },
   "file_extension": ".py",
   "mimetype": "text/x-python",
   "name": "python",
   "nbconvert_exporter": "python",
   "pygments_lexer": "ipython3",
   "version": "3.6.4"
  }
 },
 "nbformat": 4,
 "nbformat_minor": 2
}
