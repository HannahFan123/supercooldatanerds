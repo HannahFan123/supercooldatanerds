{
 "cells": [
  {
   "cell_type": "code",
   "execution_count": 37,
   "metadata": {},
   "outputs": [],
   "source": [
    "import matplotlib.pyplot as plt\n",
    "import os\n",
    "import pandas as pd\n",
    "import numpy as np"
   ]
  },
  {
   "cell_type": "code",
   "execution_count": 2,
   "metadata": {},
   "outputs": [],
   "source": [
    "crime_2014 = os.path.join(\"../Resources/Clean/crime_2014_clean.csv\")\n",
    "crime_2016 = os.path.join(\"../Resources/Clean/crime_2016_clean.csv\")\n",
    "\n",
    "crime_2014_df = pd.read_csv(crime_2014)\n",
    "crime_2016_df = pd.read_csv(crime_2016)"
   ]
  },
  {
   "cell_type": "code",
   "execution_count": 3,
   "metadata": {},
   "outputs": [],
   "source": [
    "crime_2014_df = crime_2014_df.drop(columns=\"Unnamed: 0\")\n",
    "crime_2016_df = crime_2016_df.drop(columns=\"Unnamed: 0\")"
   ]
  },
  {
   "cell_type": "code",
   "execution_count": 4,
   "metadata": {},
   "outputs": [
    {
     "data": {
      "text/html": [
       "<div>\n",
       "<style scoped>\n",
       "    .dataframe tbody tr th:only-of-type {\n",
       "        vertical-align: middle;\n",
       "    }\n",
       "\n",
       "    .dataframe tbody tr th {\n",
       "        vertical-align: top;\n",
       "    }\n",
       "\n",
       "    .dataframe thead th {\n",
       "        text-align: right;\n",
       "    }\n",
       "</style>\n",
       "<table border=\"1\" class=\"dataframe\">\n",
       "  <thead>\n",
       "    <tr style=\"text-align: right;\">\n",
       "      <th></th>\n",
       "      <th>Zip Code</th>\n",
       "      <th>GO Highest Offense Desc</th>\n",
       "      <th>UCR Description</th>\n",
       "    </tr>\n",
       "  </thead>\n",
       "  <tbody>\n",
       "    <tr>\n",
       "      <th>0</th>\n",
       "      <td>78,753</td>\n",
       "      <td>AGG ROBBERY/DEADLY WEAPON</td>\n",
       "      <td>Robbery</td>\n",
       "    </tr>\n",
       "    <tr>\n",
       "      <th>1</th>\n",
       "      <td>78,723</td>\n",
       "      <td>ROBBERY BY ASSAULT</td>\n",
       "      <td>Robbery</td>\n",
       "    </tr>\n",
       "    <tr>\n",
       "      <th>2</th>\n",
       "      <td>78,702</td>\n",
       "      <td>ROBBERY BY THREAT</td>\n",
       "      <td>Robbery</td>\n",
       "    </tr>\n",
       "    <tr>\n",
       "      <th>3</th>\n",
       "      <td>78,723</td>\n",
       "      <td>AGG ROBBERY/DEADLY WEAPON</td>\n",
       "      <td>Robbery</td>\n",
       "    </tr>\n",
       "    <tr>\n",
       "      <th>4</th>\n",
       "      <td>78,702</td>\n",
       "      <td>AGG ROBBERY/DEADLY WEAPON</td>\n",
       "      <td>Robbery</td>\n",
       "    </tr>\n",
       "  </tbody>\n",
       "</table>\n",
       "</div>"
      ],
      "text/plain": [
       "  Zip Code         GO Highest Offense Desc UCR Description\n",
       "0   78,753  AGG ROBBERY/DEADLY WEAPON              Robbery\n",
       "1   78,723  ROBBERY BY ASSAULT                     Robbery\n",
       "2   78,702  ROBBERY BY THREAT                      Robbery\n",
       "3   78,723  AGG ROBBERY/DEADLY WEAPON              Robbery\n",
       "4   78,702  AGG ROBBERY/DEADLY WEAPON              Robbery"
      ]
     },
     "execution_count": 4,
     "metadata": {},
     "output_type": "execute_result"
    }
   ],
   "source": [
    "crime_2014_df.head()"
   ]
  },
  {
   "cell_type": "code",
   "execution_count": 5,
   "metadata": {},
   "outputs": [
    {
     "data": {
      "text/html": [
       "<div>\n",
       "<style scoped>\n",
       "    .dataframe tbody tr th:only-of-type {\n",
       "        vertical-align: middle;\n",
       "    }\n",
       "\n",
       "    .dataframe tbody tr th {\n",
       "        vertical-align: top;\n",
       "    }\n",
       "\n",
       "    .dataframe thead th {\n",
       "        text-align: right;\n",
       "    }\n",
       "</style>\n",
       "<table border=\"1\" class=\"dataframe\">\n",
       "  <thead>\n",
       "    <tr style=\"text-align: right;\">\n",
       "      <th></th>\n",
       "      <th>Zip Code</th>\n",
       "      <th>UCR Description</th>\n",
       "      <th>Count of Offenses</th>\n",
       "    </tr>\n",
       "  </thead>\n",
       "  <tbody>\n",
       "    <tr>\n",
       "      <th>0</th>\n",
       "      <td>78613</td>\n",
       "      <td>Agg Assault</td>\n",
       "      <td>2</td>\n",
       "    </tr>\n",
       "    <tr>\n",
       "      <th>1</th>\n",
       "      <td>78613</td>\n",
       "      <td>Auto Theft</td>\n",
       "      <td>4</td>\n",
       "    </tr>\n",
       "    <tr>\n",
       "      <th>2</th>\n",
       "      <td>78613</td>\n",
       "      <td>Burglary</td>\n",
       "      <td>3</td>\n",
       "    </tr>\n",
       "    <tr>\n",
       "      <th>3</th>\n",
       "      <td>78613</td>\n",
       "      <td>Robbery</td>\n",
       "      <td>2</td>\n",
       "    </tr>\n",
       "    <tr>\n",
       "      <th>4</th>\n",
       "      <td>78613</td>\n",
       "      <td>Theft</td>\n",
       "      <td>393</td>\n",
       "    </tr>\n",
       "  </tbody>\n",
       "</table>\n",
       "</div>"
      ],
      "text/plain": [
       "  Zip Code UCR Description  Count of Offenses\n",
       "0    78613     Agg Assault                  2\n",
       "1    78613      Auto Theft                  4\n",
       "2    78613        Burglary                  3\n",
       "3    78613         Robbery                  2\n",
       "4    78613           Theft                393"
      ]
     },
     "execution_count": 5,
     "metadata": {},
     "output_type": "execute_result"
    }
   ],
   "source": [
    "# Order By Zip Code & make the Zip Code Column a str and remove the comma\n",
    "\n",
    "zip_crime_2014 = crime_2014_df.groupby([\"Zip Code\",\"UCR Description\"])[\"GO Highest Offense Desc\"].count().reset_index()\n",
    "zip_crime_2014[\"Zip Code\"] = zip_crime_2014[\"Zip Code\"].astype(str)\n",
    "zip_crime_2014[\"Zip Code\"] = zip_crime_2014[\"Zip Code\"].str.replace(\",\",\"\")\n",
    "zip_crime_2014= zip_crime_2014.rename(columns={\"GO Highest Offense Desc\":\"Count of Offenses\"})\n",
    "zip_crime_2014.head()"
   ]
  },
  {
   "cell_type": "code",
   "execution_count": 6,
   "metadata": {},
   "outputs": [
    {
     "data": {
      "text/html": [
       "<div>\n",
       "<style scoped>\n",
       "    .dataframe tbody tr th:only-of-type {\n",
       "        vertical-align: middle;\n",
       "    }\n",
       "\n",
       "    .dataframe tbody tr th {\n",
       "        vertical-align: top;\n",
       "    }\n",
       "\n",
       "    .dataframe thead th {\n",
       "        text-align: right;\n",
       "    }\n",
       "</style>\n",
       "<table border=\"1\" class=\"dataframe\">\n",
       "  <thead>\n",
       "    <tr style=\"text-align: right;\">\n",
       "      <th></th>\n",
       "      <th>Zip Code</th>\n",
       "      <th>UCR Description</th>\n",
       "      <th>Count of Offenses</th>\n",
       "    </tr>\n",
       "  </thead>\n",
       "  <tbody>\n",
       "    <tr>\n",
       "      <th>0</th>\n",
       "      <td>78613</td>\n",
       "      <td>Auto Theft</td>\n",
       "      <td>12</td>\n",
       "    </tr>\n",
       "    <tr>\n",
       "      <th>1</th>\n",
       "      <td>78613</td>\n",
       "      <td>Burglary</td>\n",
       "      <td>8</td>\n",
       "    </tr>\n",
       "    <tr>\n",
       "      <th>2</th>\n",
       "      <td>78613</td>\n",
       "      <td>Murder</td>\n",
       "      <td>1</td>\n",
       "    </tr>\n",
       "    <tr>\n",
       "      <th>3</th>\n",
       "      <td>78613</td>\n",
       "      <td>Rape</td>\n",
       "      <td>3</td>\n",
       "    </tr>\n",
       "    <tr>\n",
       "      <th>4</th>\n",
       "      <td>78613</td>\n",
       "      <td>Robbery</td>\n",
       "      <td>2</td>\n",
       "    </tr>\n",
       "  </tbody>\n",
       "</table>\n",
       "</div>"
      ],
      "text/plain": [
       "  Zip Code UCR Description  Count of Offenses\n",
       "0    78613      Auto Theft                 12\n",
       "1    78613        Burglary                  8\n",
       "2    78613          Murder                  1\n",
       "3    78613            Rape                  3\n",
       "4    78613         Robbery                  2"
      ]
     },
     "execution_count": 6,
     "metadata": {},
     "output_type": "execute_result"
    }
   ],
   "source": [
    "# Order By Zip Code & make the Zip Code Column a str \n",
    "\n",
    "zip_crime_2016 = crime_2016_df.groupby([\"Zip Code\",\"UCR Description\"])[\"GO Highest Offense Desc\"].count().reset_index()\n",
    "zip_crime_2016[\"Zip Code\"] = zip_crime_2016[\"Zip Code\"].astype(int).astype(str)\n",
    "zip_crime_2016= zip_crime_2016.rename(columns={\"GO Highest Offense Desc\":\"Count of Offenses\"})\n",
    "zip_crime_2016.head()"
   ]
  },
  {
   "cell_type": "markdown",
   "metadata": {},
   "source": [
    "### Get an Overview of Offenses Per Zipcode Between the Two Years"
   ]
  },
  {
   "cell_type": "code",
   "execution_count": 7,
   "metadata": {},
   "outputs": [],
   "source": [
    "sum14 = pd.DataFrame(zip_crime_2014.groupby(\"Zip Code\")[\"Count of Offenses\"].sum().sort_values(ascending=False).reset_index())\n",
    "\n",
    "sum16 = pd.DataFrame(zip_crime_2016.groupby(\"Zip Code\")[\"Count of Offenses\"].sum().sort_values(ascending=False).reset_index())\n",
    "\n",
    "# Create DF and Change between the two years\n",
    "summed = sum14.merge(sum16, on=\"Zip Code\", suffixes= (\"_14\",\"_16\"))\n",
    "summed[\"Delta\"] = summed[\"Count of Offenses_16\"].subtract(other=summed[\"Count of Offenses_14\"])\n",
    "\n",
    "# Add Percentage Change Column\n",
    "summed[\"Percentage\"] = summed[\"Delta\"].divide(other=summed[\"Count of Offenses_14\"]).apply(lambda x: round(x,2))"
   ]
  },
  {
   "cell_type": "markdown",
   "metadata": {},
   "source": [
    "### Because of graphing limitations, choose a small sample of zip codes"
   ]
  },
  {
   "cell_type": "code",
   "execution_count": 51,
   "metadata": {},
   "outputs": [],
   "source": [
    "zips = [\"78702\",\"78722\",\"78759\",\"78753\",\"78721\",\"78750\",\"78660\",\"78742\",\"78719\",\"78757\",\"78752\"]\n",
    "crime_2014_bar = pd.DataFrame()\n",
    "\n",
    "for zipcode in zips:\n",
    "    zipped = zip_crime_2014[zip_crime_2014[\"Zip Code\"]==zipcode]\n",
    "    crime_2014_bar = pd.concat([crime_2014_bar, zipped])\n",
    "\n",
    "crime_2014_bar= crime_2014_bar.pivot(index=\"Zip Code\",columns=\"UCR Description\")[\"Count of Offenses\"]"
   ]
  },
  {
   "cell_type": "code",
   "execution_count": 65,
   "metadata": {},
   "outputs": [],
   "source": [
    "# Same but for 2016\n",
    "zips = [\"78702\",\"78722\",\"78759\",\"78753\",\"78721\",\"78750\",\"78660\",\"78742\",\"78719\",\"78757\",\"78752\"]\n",
    "crime_2016_bar = pd.DataFrame()\n",
    "\n",
    "for zipcode in zips:\n",
    "    zipped = zip_crime_2016[zip_crime_2016[\"Zip Code\"]==zipcode]\n",
    "    crime_2016_bar = pd.concat([crime_2016_bar, zipped])\n",
    "\n",
    "crime_2016_bar= crime_2016_bar.pivot(index=\"Zip Code\",columns=\"UCR Description\")[\"Count of Offenses\"]"
   ]
  },
  {
   "cell_type": "code",
   "execution_count": 64,
   "metadata": {},
   "outputs": [],
   "source": [
    "# summed.sort_values(by=\"Percentage\")"
   ]
  },
  {
   "cell_type": "code",
   "execution_count": 11,
   "metadata": {},
   "outputs": [],
   "source": [
    "summed.to_csv(\"../Outputs/summed.csv\")"
   ]
  },
  {
   "cell_type": "markdown",
   "metadata": {},
   "source": [
    "### Plotting a Stacked Bar Chart"
   ]
  },
  {
   "cell_type": "code",
   "execution_count": 12,
   "metadata": {},
   "outputs": [
    {
     "data": {
      "text/plain": [
       "array(['Agg Assault', 'Auto Theft', 'Burglary', 'Robbery', 'Theft',\n",
       "       'Rape', 'Murder'], dtype=object)"
      ]
     },
     "execution_count": 12,
     "metadata": {},
     "output_type": "execute_result"
    }
   ],
   "source": [
    "# zip_crime_2016[\"UCR Description\"].unique()\n",
    "zip_crime_2014[\"UCR Description\"].unique()"
   ]
  },
  {
   "cell_type": "code",
   "execution_count": 50,
   "metadata": {},
   "outputs": [
    {
     "data": {
      "text/html": [
       "<div>\n",
       "<style scoped>\n",
       "    .dataframe tbody tr th:only-of-type {\n",
       "        vertical-align: middle;\n",
       "    }\n",
       "\n",
       "    .dataframe tbody tr th {\n",
       "        vertical-align: top;\n",
       "    }\n",
       "\n",
       "    .dataframe thead th {\n",
       "        text-align: right;\n",
       "    }\n",
       "</style>\n",
       "<table border=\"1\" class=\"dataframe\">\n",
       "  <thead>\n",
       "    <tr style=\"text-align: right;\">\n",
       "      <th>UCR Description</th>\n",
       "      <th>Agg Assault</th>\n",
       "      <th>Auto Theft</th>\n",
       "      <th>Burglary</th>\n",
       "      <th>Murder</th>\n",
       "      <th>Rape</th>\n",
       "      <th>Robbery</th>\n",
       "      <th>Theft</th>\n",
       "    </tr>\n",
       "    <tr>\n",
       "      <th>Zip Code</th>\n",
       "      <th></th>\n",
       "      <th></th>\n",
       "      <th></th>\n",
       "      <th></th>\n",
       "      <th></th>\n",
       "      <th></th>\n",
       "      <th></th>\n",
       "    </tr>\n",
       "  </thead>\n",
       "  <tbody>\n",
       "    <tr>\n",
       "      <th>78660</th>\n",
       "      <td>7.0</td>\n",
       "      <td>6.0</td>\n",
       "      <td>16.0</td>\n",
       "      <td>1.0</td>\n",
       "      <td>NaN</td>\n",
       "      <td>3.0</td>\n",
       "      <td>113.0</td>\n",
       "    </tr>\n",
       "    <tr>\n",
       "      <th>78702</th>\n",
       "      <td>120.0</td>\n",
       "      <td>84.0</td>\n",
       "      <td>374.0</td>\n",
       "      <td>2.0</td>\n",
       "      <td>22.0</td>\n",
       "      <td>75.0</td>\n",
       "      <td>1519.0</td>\n",
       "    </tr>\n",
       "    <tr>\n",
       "      <th>78719</th>\n",
       "      <td>3.0</td>\n",
       "      <td>20.0</td>\n",
       "      <td>1.0</td>\n",
       "      <td>NaN</td>\n",
       "      <td>NaN</td>\n",
       "      <td>NaN</td>\n",
       "      <td>103.0</td>\n",
       "    </tr>\n",
       "    <tr>\n",
       "      <th>78721</th>\n",
       "      <td>67.0</td>\n",
       "      <td>19.0</td>\n",
       "      <td>146.0</td>\n",
       "      <td>NaN</td>\n",
       "      <td>9.0</td>\n",
       "      <td>23.0</td>\n",
       "      <td>375.0</td>\n",
       "    </tr>\n",
       "    <tr>\n",
       "      <th>78722</th>\n",
       "      <td>12.0</td>\n",
       "      <td>15.0</td>\n",
       "      <td>57.0</td>\n",
       "      <td>NaN</td>\n",
       "      <td>3.0</td>\n",
       "      <td>10.0</td>\n",
       "      <td>250.0</td>\n",
       "    </tr>\n",
       "    <tr>\n",
       "      <th>78742</th>\n",
       "      <td>4.0</td>\n",
       "      <td>2.0</td>\n",
       "      <td>11.0</td>\n",
       "      <td>NaN</td>\n",
       "      <td>2.0</td>\n",
       "      <td>NaN</td>\n",
       "      <td>27.0</td>\n",
       "    </tr>\n",
       "    <tr>\n",
       "      <th>78750</th>\n",
       "      <td>16.0</td>\n",
       "      <td>14.0</td>\n",
       "      <td>72.0</td>\n",
       "      <td>2.0</td>\n",
       "      <td>4.0</td>\n",
       "      <td>7.0</td>\n",
       "      <td>294.0</td>\n",
       "    </tr>\n",
       "    <tr>\n",
       "      <th>78752</th>\n",
       "      <td>101.0</td>\n",
       "      <td>82.0</td>\n",
       "      <td>162.0</td>\n",
       "      <td>NaN</td>\n",
       "      <td>23.0</td>\n",
       "      <td>49.0</td>\n",
       "      <td>904.0</td>\n",
       "    </tr>\n",
       "    <tr>\n",
       "      <th>78753</th>\n",
       "      <td>184.0</td>\n",
       "      <td>219.0</td>\n",
       "      <td>440.0</td>\n",
       "      <td>4.0</td>\n",
       "      <td>58.0</td>\n",
       "      <td>111.0</td>\n",
       "      <td>2919.0</td>\n",
       "    </tr>\n",
       "    <tr>\n",
       "      <th>78757</th>\n",
       "      <td>21.0</td>\n",
       "      <td>47.0</td>\n",
       "      <td>189.0</td>\n",
       "      <td>2.0</td>\n",
       "      <td>13.0</td>\n",
       "      <td>15.0</td>\n",
       "      <td>811.0</td>\n",
       "    </tr>\n",
       "    <tr>\n",
       "      <th>78759</th>\n",
       "      <td>31.0</td>\n",
       "      <td>63.0</td>\n",
       "      <td>156.0</td>\n",
       "      <td>1.0</td>\n",
       "      <td>9.0</td>\n",
       "      <td>15.0</td>\n",
       "      <td>1282.0</td>\n",
       "    </tr>\n",
       "  </tbody>\n",
       "</table>\n",
       "</div>"
      ],
      "text/plain": [
       "UCR Description  Agg Assault  Auto Theft  Burglary  Murder  Rape  Robbery  \\\n",
       "Zip Code                                                                    \n",
       "78660                    7.0         6.0      16.0     1.0   NaN      3.0   \n",
       "78702                  120.0        84.0     374.0     2.0  22.0     75.0   \n",
       "78719                    3.0        20.0       1.0     NaN   NaN      NaN   \n",
       "78721                   67.0        19.0     146.0     NaN   9.0     23.0   \n",
       "78722                   12.0        15.0      57.0     NaN   3.0     10.0   \n",
       "78742                    4.0         2.0      11.0     NaN   2.0      NaN   \n",
       "78750                   16.0        14.0      72.0     2.0   4.0      7.0   \n",
       "78752                  101.0        82.0     162.0     NaN  23.0     49.0   \n",
       "78753                  184.0       219.0     440.0     4.0  58.0    111.0   \n",
       "78757                   21.0        47.0     189.0     2.0  13.0     15.0   \n",
       "78759                   31.0        63.0     156.0     1.0   9.0     15.0   \n",
       "\n",
       "UCR Description   Theft  \n",
       "Zip Code                 \n",
       "78660             113.0  \n",
       "78702            1519.0  \n",
       "78719             103.0  \n",
       "78721             375.0  \n",
       "78722             250.0  \n",
       "78742              27.0  \n",
       "78750             294.0  \n",
       "78752             904.0  \n",
       "78753            2919.0  \n",
       "78757             811.0  \n",
       "78759            1282.0  "
      ]
     },
     "execution_count": 50,
     "metadata": {},
     "output_type": "execute_result"
    }
   ],
   "source": [
    "offenses = ['Auto Theft', 'Burglary', 'Murder', 'Rape', 'Robbery', 'Theft',\n",
    "       'Agg Assault']"
   ]
  },
  {
   "cell_type": "code",
   "execution_count": 63,
   "metadata": {
    "scrolled": false
   },
   "outputs": [
    {
     "data": {
      "image/png": "[encoded data removed]",
      "text/plain": [
       "<matplotlib.figure.Figure at 0x23e52e8add8>"
      ]
     },
     "metadata": {},
     "output_type": "display_data"
    }
   ],
   "source": [
    "plt.figure(figsize=(20,20))\n",
    "\n",
    "# First figure\n",
    "ax1 = plt.subplot(2,2,1)\n",
    "\n",
    "crime_2014_bar.plot.bar(stacked=True,ax=ax1)\n",
    "plt.title(\"2014 Crime Offenses per Zipcode\")\n",
    "plt.xticks(rotation=45)\n",
    "ax1.yaxis.grid()\n",
    "# ax1.set_facecolor(\"grey\")\n",
    "\n",
    "# Second figure\n",
    "ax2 = plt.subplot(2,2,2)\n",
    "\n",
    "crime_2016_bar.plot.bar(stacked=True,ax=ax2)\n",
    "plt.title(\"2016 Crime Offenses per Zipcode\")\n",
    "plt.xticks(rotation=45)\n",
    "ax2.yaxis.grid()\n",
    "# ax2.set_facecolor(\"grey\")\n",
    "\n",
    "# Third figure\n",
    "ax3 = plt.subplot2grid((2,2), (1,0), colspan=2)\n",
    "plt.title(\"Percentage Change of Recorded Offenses\")\n",
    "plt.ylabel(\"Percent Change\")\n",
    "ax3.bar(summed[\"Zip Code\"], summed[\"Percentage\"], width=0.6,color=\"blue\",edgecolor=\"black\",linewidth=2)\n",
    "plt.xticks(rotation=45)\n",
    "ax3.yaxis.grid()\n",
    "ax3.set_facecolor(\"grey\")\n",
    "\n",
    "plt.show()"
   ]
  },
  {
   "cell_type": "code",
   "execution_count": null,
   "metadata": {},
   "outputs": [],
   "source": []
  }
 ],
 "metadata": {
  "kernelspec": {
   "display_name": "Python [conda env:PythonData]",
   "language": "python",
   "name": "conda-env-PythonData-py"
  },
  "language_info": {
   "codemirror_mode": {
    "name": "ipython",
    "version": 3
   },
   "file_extension": ".py",
   "mimetype": "text/x-python",
   "name": "python",
   "nbconvert_exporter": "python",
   "pygments_lexer": "ipython3",
   "version": "3.6.4"
  }
 },
 "nbformat": 4,
 "nbformat_minor": 2
}
