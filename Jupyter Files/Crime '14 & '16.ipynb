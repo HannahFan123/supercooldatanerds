{
 "cells": [
  {
   "cell_type": "code",
   "execution_count": 1,
   "metadata": {},
   "outputs": [],
   "source": [
    "import matplotlib.pyplot as plt\n",
    "import os\n",
    "import pandas as pd\n",
    "import numpy as np"
   ]
  },
  {
   "cell_type": "code",
   "execution_count": 2,
   "metadata": {},
   "outputs": [],
   "source": [
    "crime_2014 = os.path.join(\"../Resources/Clean/crime_2014_clean.csv\")\n",
    "crime_2016 = os.path.join(\"../Resources/Clean/crime_2016_clean.csv\")\n",
    "\n",
    "crime_2014_df = pd.read_csv(crime_2014)\n",
    "crime_2016_df = pd.read_csv(crime_2016)"
   ]
  },
  {
   "cell_type": "code",
   "execution_count": 3,
   "metadata": {},
   "outputs": [],
   "source": [
    "crime_2014_df = crime_2014_df.drop(columns=\"Unnamed: 0\")\n",
    "crime_2016_df = crime_2016_df.drop(columns=\"Unnamed: 0\")"
   ]
  },
  {
   "cell_type": "code",
   "execution_count": 4,
   "metadata": {},
   "outputs": [
    {
     "data": {
      "text/html": [
       "<div>\n",
       "<style scoped>\n",
       "    .dataframe tbody tr th:only-of-type {\n",
       "        vertical-align: middle;\n",
       "    }\n",
       "\n",
       "    .dataframe tbody tr th {\n",
       "        vertical-align: top;\n",
       "    }\n",
       "\n",
       "    .dataframe thead th {\n",
       "        text-align: right;\n",
       "    }\n",
       "</style>\n",
       "<table border=\"1\" class=\"dataframe\">\n",
       "  <thead>\n",
       "    <tr style=\"text-align: right;\">\n",
       "      <th></th>\n",
       "      <th>Zip Code</th>\n",
       "      <th>GO Highest Offense Desc</th>\n",
       "      <th>UCR Description</th>\n",
       "    </tr>\n",
       "  </thead>\n",
       "  <tbody>\n",
       "    <tr>\n",
       "      <th>0</th>\n",
       "      <td>78,753</td>\n",
       "      <td>AGG ROBBERY/DEADLY WEAPON</td>\n",
       "      <td>Robbery</td>\n",
       "    </tr>\n",
       "    <tr>\n",
       "      <th>1</th>\n",
       "      <td>78,723</td>\n",
       "      <td>ROBBERY BY ASSAULT</td>\n",
       "      <td>Robbery</td>\n",
       "    </tr>\n",
       "    <tr>\n",
       "      <th>2</th>\n",
       "      <td>78,702</td>\n",
       "      <td>ROBBERY BY THREAT</td>\n",
       "      <td>Robbery</td>\n",
       "    </tr>\n",
       "    <tr>\n",
       "      <th>3</th>\n",
       "      <td>78,723</td>\n",
       "      <td>AGG ROBBERY/DEADLY WEAPON</td>\n",
       "      <td>Robbery</td>\n",
       "    </tr>\n",
       "    <tr>\n",
       "      <th>4</th>\n",
       "      <td>78,702</td>\n",
       "      <td>AGG ROBBERY/DEADLY WEAPON</td>\n",
       "      <td>Robbery</td>\n",
       "    </tr>\n",
       "  </tbody>\n",
       "</table>\n",
       "</div>"
      ],
      "text/plain": [
       "  Zip Code         GO Highest Offense Desc UCR Description\n",
       "0   78,753  AGG ROBBERY/DEADLY WEAPON              Robbery\n",
       "1   78,723  ROBBERY BY ASSAULT                     Robbery\n",
       "2   78,702  ROBBERY BY THREAT                      Robbery\n",
       "3   78,723  AGG ROBBERY/DEADLY WEAPON              Robbery\n",
       "4   78,702  AGG ROBBERY/DEADLY WEAPON              Robbery"
      ]
     },
     "execution_count": 4,
     "metadata": {},
     "output_type": "execute_result"
    }
   ],
   "source": [
    "crime_2014_df.head()"
   ]
  },
  {
   "cell_type": "code",
   "execution_count": 5,
   "metadata": {},
   "outputs": [
    {
     "data": {
      "text/html": [
       "<div>\n",
       "<style scoped>\n",
       "    .dataframe tbody tr th:only-of-type {\n",
       "        vertical-align: middle;\n",
       "    }\n",
       "\n",
       "    .dataframe tbody tr th {\n",
       "        vertical-align: top;\n",
       "    }\n",
       "\n",
       "    .dataframe thead th {\n",
       "        text-align: right;\n",
       "    }\n",
       "</style>\n",
       "<table border=\"1\" class=\"dataframe\">\n",
       "  <thead>\n",
       "    <tr style=\"text-align: right;\">\n",
       "      <th></th>\n",
       "      <th>Zip Code</th>\n",
       "      <th>UCR Description</th>\n",
       "      <th>Count of Offenses</th>\n",
       "    </tr>\n",
       "  </thead>\n",
       "  <tbody>\n",
       "    <tr>\n",
       "      <th>0</th>\n",
       "      <td>78613</td>\n",
       "      <td>Agg Assault</td>\n",
       "      <td>2</td>\n",
       "    </tr>\n",
       "    <tr>\n",
       "      <th>1</th>\n",
       "      <td>78613</td>\n",
       "      <td>Auto Theft</td>\n",
       "      <td>4</td>\n",
       "    </tr>\n",
       "    <tr>\n",
       "      <th>2</th>\n",
       "      <td>78613</td>\n",
       "      <td>Burglary</td>\n",
       "      <td>3</td>\n",
       "    </tr>\n",
       "    <tr>\n",
       "      <th>3</th>\n",
       "      <td>78613</td>\n",
       "      <td>Robbery</td>\n",
       "      <td>2</td>\n",
       "    </tr>\n",
       "    <tr>\n",
       "      <th>4</th>\n",
       "      <td>78613</td>\n",
       "      <td>Theft</td>\n",
       "      <td>393</td>\n",
       "    </tr>\n",
       "  </tbody>\n",
       "</table>\n",
       "</div>"
      ],
      "text/plain": [
       "  Zip Code UCR Description  Count of Offenses\n",
       "0    78613     Agg Assault                  2\n",
       "1    78613      Auto Theft                  4\n",
       "2    78613        Burglary                  3\n",
       "3    78613         Robbery                  2\n",
       "4    78613           Theft                393"
      ]
     },
     "execution_count": 5,
     "metadata": {},
     "output_type": "execute_result"
    }
   ],
   "source": [
    "# Order By Zip Code & make the Zip Code Column a str and remove the comma\n",
    "\n",
    "zip_crime_2014 = crime_2014_df.groupby([\"Zip Code\",\"UCR Description\"])[\"GO Highest Offense Desc\"].count().reset_index()\n",
    "zip_crime_2014[\"Zip Code\"] = zip_crime_2014[\"Zip Code\"].astype(str)\n",
    "zip_crime_2014[\"Zip Code\"] = zip_crime_2014[\"Zip Code\"].str.replace(\",\",\"\")\n",
    "zip_crime_2014= zip_crime_2014.rename(columns={\"GO Highest Offense Desc\":\"Count of Offenses\"})\n",
    "zip_crime_2014.head()"
   ]
  },
  {
   "cell_type": "code",
   "execution_count": 6,
   "metadata": {},
   "outputs": [
    {
     "data": {
      "text/html": [
       "<div>\n",
       "<style scoped>\n",
       "    .dataframe tbody tr th:only-of-type {\n",
       "        vertical-align: middle;\n",
       "    }\n",
       "\n",
       "    .dataframe tbody tr th {\n",
       "        vertical-align: top;\n",
       "    }\n",
       "\n",
       "    .dataframe thead th {\n",
       "        text-align: right;\n",
       "    }\n",
       "</style>\n",
       "<table border=\"1\" class=\"dataframe\">\n",
       "  <thead>\n",
       "    <tr style=\"text-align: right;\">\n",
       "      <th></th>\n",
       "      <th>Zip Code</th>\n",
       "      <th>UCR Description</th>\n",
       "      <th>Count of Offenses</th>\n",
       "    </tr>\n",
       "  </thead>\n",
       "  <tbody>\n",
       "    <tr>\n",
       "      <th>0</th>\n",
       "      <td>78613</td>\n",
       "      <td>Auto Theft</td>\n",
       "      <td>12</td>\n",
       "    </tr>\n",
       "    <tr>\n",
       "      <th>1</th>\n",
       "      <td>78613</td>\n",
       "      <td>Burglary</td>\n",
       "      <td>8</td>\n",
       "    </tr>\n",
       "    <tr>\n",
       "      <th>2</th>\n",
       "      <td>78613</td>\n",
       "      <td>Murder</td>\n",
       "      <td>1</td>\n",
       "    </tr>\n",
       "    <tr>\n",
       "      <th>3</th>\n",
       "      <td>78613</td>\n",
       "      <td>Rape</td>\n",
       "      <td>3</td>\n",
       "    </tr>\n",
       "    <tr>\n",
       "      <th>4</th>\n",
       "      <td>78613</td>\n",
       "      <td>Robbery</td>\n",
       "      <td>2</td>\n",
       "    </tr>\n",
       "  </tbody>\n",
       "</table>\n",
       "</div>"
      ],
      "text/plain": [
       "  Zip Code UCR Description  Count of Offenses\n",
       "0    78613      Auto Theft                 12\n",
       "1    78613        Burglary                  8\n",
       "2    78613          Murder                  1\n",
       "3    78613            Rape                  3\n",
       "4    78613         Robbery                  2"
      ]
     },
     "execution_count": 6,
     "metadata": {},
     "output_type": "execute_result"
    }
   ],
   "source": [
    "# Order By Zip Code & make the Zip Code Column a str \n",
    "\n",
    "zip_crime_2016 = crime_2016_df.groupby([\"Zip Code\",\"UCR Description\"])[\"GO Highest Offense Desc\"].count().reset_index()\n",
    "zip_crime_2016[\"Zip Code\"] = zip_crime_2016[\"Zip Code\"].astype(int).astype(str)\n",
    "zip_crime_2016= zip_crime_2016.rename(columns={\"GO Highest Offense Desc\":\"Count of Offenses\"})\n",
    "zip_crime_2016.head()"
   ]
  },
  {
   "cell_type": "markdown",
   "metadata": {},
   "source": [
    "### Get an Overview of Offenses Per Zipcode Between the Two Years"
   ]
  },
  {
   "cell_type": "code",
   "execution_count": 7,
   "metadata": {},
   "outputs": [],
   "source": [
    "# Aggregate to only zipcode\n",
    "\n",
    "sum14 = pd.DataFrame(zip_crime_2014.groupby(\"Zip Code\")[\"Count of Offenses\"].sum().sort_values(ascending=False).reset_index())\n",
    "\n",
    "sum16 = pd.DataFrame(zip_crime_2016.groupby(\"Zip Code\")[\"Count of Offenses\"].sum().sort_values(ascending=False).reset_index())\n",
    "\n",
    "# Create DF and Change between the two years\n",
    "summed = sum14.merge(sum16, on=\"Zip Code\", suffixes= (\"_14\",\"_16\"))\n",
    "summed[\"Delta\"] = summed[\"Count of Offenses_16\"].subtract(other=summed[\"Count of Offenses_14\"])\n",
    "\n",
    "# Add Percentage Change Column\n",
    "summed[\"Percentage\"] = summed[\"Delta\"].divide(other=summed[\"Count of Offenses_14\"]).apply(lambda x: round(x,2))"
   ]
  },
  {
   "cell_type": "markdown",
   "metadata": {},
   "source": [
    "### Because of graphing limitations, choose a small sample of zip codes"
   ]
  },
  {
   "cell_type": "code",
   "execution_count": 8,
   "metadata": {},
   "outputs": [],
   "source": [
    "zips = [\"78744\",\"78721\",\"78741\",\"78747\",\"78702\",\"78753\",\"78731\",\"78752\",\"78758\",\"78723\",\"78751\",\"78726\",\"78759\",\"78703\",\"78735\",\"78756\",\"78730\",\"78701\",\"78748\",\"78705\"]\n",
    "crime_2014_bar = pd.DataFrame()\n",
    "\n",
    "for zipcode in zips:\n",
    "    zipped = zip_crime_2014[zip_crime_2014[\"Zip Code\"]==zipcode]\n",
    "    crime_2014_bar = pd.concat([crime_2014_bar, zipped])\n",
    "\n",
    "crime_2014_bar= crime_2014_bar.pivot(index=\"Zip Code\",columns=\"UCR Description\")[\"Count of Offenses\"]"
   ]
  },
  {
   "cell_type": "code",
   "execution_count": 9,
   "metadata": {},
   "outputs": [],
   "source": [
    "# Same but for 2016\n",
    "zips = [\"78744\",\"78721\",\"78741\",\"78747\",\"78702\",\"78753\",\"78731\",\"78752\",\"78758\",\"78723\",\"78751\",\"78726\",\"78759\",\"78703\",\"78735\",\"78756\",\"78730\",\"78701\",\"78748\",\"78705\"]\n",
    "crime_2016_bar = pd.DataFrame()\n",
    "\n",
    "for zipcode in zips:\n",
    "    zipped = zip_crime_2016[zip_crime_2016[\"Zip Code\"]==zipcode]\n",
    "    crime_2016_bar = pd.concat([crime_2016_bar, zipped])\n",
    "\n",
    "crime_2016_bar= crime_2016_bar.pivot(index=\"Zip Code\",columns=\"UCR Description\")[\"Count of Offenses\"]"
   ]
  },
  {
   "cell_type": "markdown",
   "metadata": {},
   "source": [
    "#### Filter the summed data for 10 Zipcodes for better presentation"
   ]
  },
  {
   "cell_type": "code",
   "execution_count": 11,
   "metadata": {},
   "outputs": [],
   "source": [
    "zips = [\"78744\",\"78721\",\"78741\",\"78747\",\"78702\",\"78753\",\"78731\",\"78752\",\"78758\",\"78723\",\"78751\",\"78726\",\"78759\",\"78703\",\"78735\",\"78756\",\"78730\",\"78701\",\"78748\",\"78705\"]\n",
    "summedbyzip = pd.DataFrame()\n",
    "for zipcode in zips:\n",
    "    zipped = summed[summed[\"Zip Code\"]==zipcode]\n",
    "    summedbyzip = pd.concat([summedbyzip, zipped])"
   ]
  },
  {
   "cell_type": "code",
   "execution_count": 12,
   "metadata": {},
   "outputs": [
    {
     "data": {
      "text/html": [
       "<div>\n",
       "<style scoped>\n",
       "    .dataframe tbody tr th:only-of-type {\n",
       "        vertical-align: middle;\n",
       "    }\n",
       "\n",
       "    .dataframe tbody tr th {\n",
       "        vertical-align: top;\n",
       "    }\n",
       "\n",
       "    .dataframe thead th {\n",
       "        text-align: right;\n",
       "    }\n",
       "</style>\n",
       "<table border=\"1\" class=\"dataframe\">\n",
       "  <thead>\n",
       "    <tr style=\"text-align: right;\">\n",
       "      <th></th>\n",
       "      <th>Zip Code</th>\n",
       "      <th>Count of Offenses_14</th>\n",
       "      <th>Count of Offenses_16</th>\n",
       "      <th>Delta</th>\n",
       "      <th>Percentage</th>\n",
       "    </tr>\n",
       "  </thead>\n",
       "  <tbody>\n",
       "    <tr>\n",
       "      <th>5</th>\n",
       "      <td>78702</td>\n",
       "      <td>2196</td>\n",
       "      <td>1582</td>\n",
       "      <td>-614</td>\n",
       "      <td>-0.28</td>\n",
       "    </tr>\n",
       "    <tr>\n",
       "      <th>9</th>\n",
       "      <td>78759</td>\n",
       "      <td>1557</td>\n",
       "      <td>1198</td>\n",
       "      <td>-359</td>\n",
       "      <td>-0.23</td>\n",
       "    </tr>\n",
       "    <tr>\n",
       "      <th>0</th>\n",
       "      <td>78753</td>\n",
       "      <td>3935</td>\n",
       "      <td>3134</td>\n",
       "      <td>-801</td>\n",
       "      <td>-0.20</td>\n",
       "    </tr>\n",
       "    <tr>\n",
       "      <th>18</th>\n",
       "      <td>78721</td>\n",
       "      <td>639</td>\n",
       "      <td>515</td>\n",
       "      <td>-124</td>\n",
       "      <td>-0.19</td>\n",
       "    </tr>\n",
       "    <tr>\n",
       "      <th>2</th>\n",
       "      <td>78758</td>\n",
       "      <td>2826</td>\n",
       "      <td>2499</td>\n",
       "      <td>-327</td>\n",
       "      <td>-0.12</td>\n",
       "    </tr>\n",
       "    <tr>\n",
       "      <th>10</th>\n",
       "      <td>78748</td>\n",
       "      <td>1550</td>\n",
       "      <td>1372</td>\n",
       "      <td>-178</td>\n",
       "      <td>-0.11</td>\n",
       "    </tr>\n",
       "    <tr>\n",
       "      <th>38</th>\n",
       "      <td>78730</td>\n",
       "      <td>51</td>\n",
       "      <td>46</td>\n",
       "      <td>-5</td>\n",
       "      <td>-0.10</td>\n",
       "    </tr>\n",
       "    <tr>\n",
       "      <th>6</th>\n",
       "      <td>78744</td>\n",
       "      <td>2195</td>\n",
       "      <td>1990</td>\n",
       "      <td>-205</td>\n",
       "      <td>-0.09</td>\n",
       "    </tr>\n",
       "    <tr>\n",
       "      <th>31</th>\n",
       "      <td>78747</td>\n",
       "      <td>249</td>\n",
       "      <td>229</td>\n",
       "      <td>-20</td>\n",
       "      <td>-0.08</td>\n",
       "    </tr>\n",
       "    <tr>\n",
       "      <th>26</th>\n",
       "      <td>78756</td>\n",
       "      <td>355</td>\n",
       "      <td>326</td>\n",
       "      <td>-29</td>\n",
       "      <td>-0.08</td>\n",
       "    </tr>\n",
       "    <tr>\n",
       "      <th>21</th>\n",
       "      <td>78731</td>\n",
       "      <td>527</td>\n",
       "      <td>512</td>\n",
       "      <td>-15</td>\n",
       "      <td>-0.03</td>\n",
       "    </tr>\n",
       "    <tr>\n",
       "      <th>7</th>\n",
       "      <td>78723</td>\n",
       "      <td>2083</td>\n",
       "      <td>2041</td>\n",
       "      <td>-42</td>\n",
       "      <td>-0.02</td>\n",
       "    </tr>\n",
       "    <tr>\n",
       "      <th>11</th>\n",
       "      <td>78752</td>\n",
       "      <td>1321</td>\n",
       "      <td>1289</td>\n",
       "      <td>-32</td>\n",
       "      <td>-0.02</td>\n",
       "    </tr>\n",
       "    <tr>\n",
       "      <th>14</th>\n",
       "      <td>78751</td>\n",
       "      <td>926</td>\n",
       "      <td>914</td>\n",
       "      <td>-12</td>\n",
       "      <td>-0.01</td>\n",
       "    </tr>\n",
       "    <tr>\n",
       "      <th>1</th>\n",
       "      <td>78741</td>\n",
       "      <td>3394</td>\n",
       "      <td>3355</td>\n",
       "      <td>-39</td>\n",
       "      <td>-0.01</td>\n",
       "    </tr>\n",
       "    <tr>\n",
       "      <th>17</th>\n",
       "      <td>78703</td>\n",
       "      <td>660</td>\n",
       "      <td>660</td>\n",
       "      <td>0</td>\n",
       "      <td>0.00</td>\n",
       "    </tr>\n",
       "    <tr>\n",
       "      <th>12</th>\n",
       "      <td>78705</td>\n",
       "      <td>1138</td>\n",
       "      <td>1134</td>\n",
       "      <td>-4</td>\n",
       "      <td>-0.00</td>\n",
       "    </tr>\n",
       "    <tr>\n",
       "      <th>8</th>\n",
       "      <td>78701</td>\n",
       "      <td>2036</td>\n",
       "      <td>2076</td>\n",
       "      <td>40</td>\n",
       "      <td>0.02</td>\n",
       "    </tr>\n",
       "    <tr>\n",
       "      <th>28</th>\n",
       "      <td>78735</td>\n",
       "      <td>280</td>\n",
       "      <td>300</td>\n",
       "      <td>20</td>\n",
       "      <td>0.07</td>\n",
       "    </tr>\n",
       "    <tr>\n",
       "      <th>32</th>\n",
       "      <td>78726</td>\n",
       "      <td>204</td>\n",
       "      <td>221</td>\n",
       "      <td>17</td>\n",
       "      <td>0.08</td>\n",
       "    </tr>\n",
       "  </tbody>\n",
       "</table>\n",
       "</div>"
      ],
      "text/plain": [
       "   Zip Code  Count of Offenses_14  Count of Offenses_16  Delta  Percentage\n",
       "5     78702                  2196                  1582   -614       -0.28\n",
       "9     78759                  1557                  1198   -359       -0.23\n",
       "0     78753                  3935                  3134   -801       -0.20\n",
       "18    78721                   639                   515   -124       -0.19\n",
       "2     78758                  2826                  2499   -327       -0.12\n",
       "10    78748                  1550                  1372   -178       -0.11\n",
       "38    78730                    51                    46     -5       -0.10\n",
       "6     78744                  2195                  1990   -205       -0.09\n",
       "31    78747                   249                   229    -20       -0.08\n",
       "26    78756                   355                   326    -29       -0.08\n",
       "21    78731                   527                   512    -15       -0.03\n",
       "7     78723                  2083                  2041    -42       -0.02\n",
       "11    78752                  1321                  1289    -32       -0.02\n",
       "14    78751                   926                   914    -12       -0.01\n",
       "1     78741                  3394                  3355    -39       -0.01\n",
       "17    78703                   660                   660      0        0.00\n",
       "12    78705                  1138                  1134     -4       -0.00\n",
       "8     78701                  2036                  2076     40        0.02\n",
       "28    78735                   280                   300     20        0.07\n",
       "32    78726                   204                   221     17        0.08"
      ]
     },
     "execution_count": 12,
     "metadata": {},
     "output_type": "execute_result"
    }
   ],
   "source": [
    "summedbyzip.sort_values(by=\"Percentage\")"
   ]
  },
  {
   "cell_type": "code",
   "execution_count": 13,
   "metadata": {},
   "outputs": [],
   "source": [
    "summed.to_csv(\"../Outputs/summed.csv\")"
   ]
  },
  {
   "cell_type": "markdown",
   "metadata": {},
   "source": [
    "### Plotting a Stacked Bar Chart"
   ]
  },
  {
   "cell_type": "code",
   "execution_count": 14,
   "metadata": {},
   "outputs": [
    {
     "data": {
      "text/plain": [
       "array(['Agg Assault', 'Auto Theft', 'Burglary', 'Robbery', 'Theft',\n",
       "       'Rape', 'Murder'], dtype=object)"
      ]
     },
     "execution_count": 14,
     "metadata": {},
     "output_type": "execute_result"
    }
   ],
   "source": [
    "# zip_crime_2016[\"UCR Description\"].unique()\n",
    "zip_crime_2014[\"UCR Description\"].unique()"
   ]
  },
  {
   "cell_type": "code",
   "execution_count": 15,
   "metadata": {},
   "outputs": [],
   "source": [
    "offenses = ['Auto Theft', 'Burglary', 'Murder', 'Rape', 'Robbery', 'Theft',\n",
    "       'Agg Assault']"
   ]
  },
  {
   "cell_type": "markdown",
   "metadata": {},
   "source": [
    "#### Sort the bar chart data by Count of Offenses"
   ]
  },
  {
   "cell_type": "code",
   "execution_count": 24,
   "metadata": {},
   "outputs": [],
   "source": [
    "crime_2014_bar = crime_2014_bar.sort_values(by=\"Theft\", ascending=False)\n",
    "crime_2016_bar = crime_2016_bar.sort_values(by=\"Theft\", ascending=False)"
   ]
  },
  {
   "cell_type": "code",
   "execution_count": 26,
   "metadata": {
    "scrolled": false
   },
   "outputs": [
    {
     "data": {
      "image/png": "[encoded data removed]",
      "text/plain": [
       "<matplotlib.figure.Figure at 0x1f6a31e3f98>"
      ]
     },
     "metadata": {},
     "output_type": "display_data"
    }
   ],
   "source": [
    "plt.figure(figsize=(20,20))\n",
    "\n",
    "# First figure\n",
    "ax1 = plt.subplot(2,2,1)\n",
    "\n",
    "crime_2014_bar.plot.bar(stacked=True,ax=ax1)\n",
    "plt.title(\"2014 Crime Offenses per Zipcode\")\n",
    "plt.xticks(rotation=45)\n",
    "ax1.yaxis.grid()\n",
    "# ax1.set_facecolor(\"grey\")\n",
    "\n",
    "# Second figure\n",
    "ax2 = plt.subplot(2,2,2)\n",
    "\n",
    "crime_2016_bar.plot.bar(stacked=True,ax=ax2)\n",
    "plt.title(\"2016 Crime Offenses per Zipcode\")\n",
    "plt.xticks(rotation=45)\n",
    "ax2.yaxis.grid()\n",
    "# ax2.set_facecolor(\"grey\")\n",
    "\n",
    "# Third figure\n",
    "ax3 = plt.subplot2grid((2,2), (1,0), colspan=2)\n",
    "plt.title(\"Percentage Change of Recorded Offenses\")\n",
    "plt.ylabel(\"Percent Change\")\n",
    "ax3.bar(summedbyzip[\"Zip Code\"], summedbyzip[\"Percentage\"], width=0.6,color=\"blue\",edgecolor=\"black\",linewidth=2)\n",
    "plt.xticks(rotation=45)\n",
    "ax3.yaxis.grid()\n",
    "ax3.set_facecolor(\"grey\")\n",
    "ax3.invert_yaxis()\n",
    "plt.savefig(\"../Outputs/Crime_Graph.png\", frameon=False)\n",
    "plt.show()"
   ]
  },
  {
   "cell_type": "code",
   "execution_count": null,
   "metadata": {},
   "outputs": [],
   "source": []
  }
 ],
 "metadata": {
  "kernelspec": {
   "display_name": "Python [conda env:PythonData]",
   "language": "python",
   "name": "conda-env-PythonData-py"
  },
  "language_info": {
   "codemirror_mode": {
    "name": "ipython",
    "version": 3
   },
   "file_extension": ".py",
   "mimetype": "text/x-python",
   "name": "python",
   "nbconvert_exporter": "python",
   "pygments_lexer": "ipython3",
   "version": "3.6.4"
  }
 },
 "nbformat": 4,
 "nbformat_minor": 2
}
